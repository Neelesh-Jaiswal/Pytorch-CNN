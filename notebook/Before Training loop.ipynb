{
 "cells": [
  {
   "cell_type": "code",
   "execution_count": 1,
   "metadata": {},
   "outputs": [
    {
     "name": "stderr",
     "output_type": "stream",
     "text": [
      "C:\\Users\\Lenovo\\Downloads\\Ineuron\\deep_learning_project\\CNN_Pytorch_implementation_13_MARCH\\Pytorch-CNN\\env\\lib\\site-packages\\tqdm\\auto.py:22: TqdmWarning: IProgress not found. Please update jupyter and ipywidgets. See https://ipywidgets.readthedocs.io/en/stable/user_install.html\n",
      "  from .autonotebook import tqdm as notebook_tqdm\n"
     ]
    }
   ],
   "source": [
    "import os\n",
    "import numpy as np\n",
    "import matplotlib.pyplot as plt\n",
    "import seaborn as sns\n",
    "import torch\n",
    "import torch.nn as nn\n",
    "from torch.utils.data import DataLoader\n",
    "from torchvision import transforms, datasets\n",
    "import torch.nn.functional as F\n",
    "from sklearn.metrics import confusion_matrix\n",
    "from tqdm import tqdm\n",
    "import pandas as pd"
   ]
  },
  {
   "cell_type": "code",
   "execution_count": 2,
   "metadata": {},
   "outputs": [
    {
     "name": "stdout",
     "output_type": "stream",
     "text": [
      "This notebook is using device: cpu\n"
     ]
    }
   ],
   "source": [
    "class Config():\n",
    "    def __init__(self):\n",
    "        self.ROOT_DATA_DIR = 'FashionMNISTDir'\n",
    "        self.EPOCH = 10\n",
    "        self.BATCH_SIZE = 32\n",
    "        self.LEARNING_RATE = 0.01\n",
    "        self.IMAGE_SIZE = (28,28)\n",
    "        self.DEVICE = 'cuda' if torch.cuda.is_available() else 'cpu'\n",
    "        print(f'This notebook is using device: {self.DEVICE}')\n",
    "        self.SEED = 2022\n",
    "\n",
    "config = Config()"
   ]
  },
  {
   "cell_type": "code",
   "execution_count": 3,
   "metadata": {},
   "outputs": [
    {
     "data": {
      "text/plain": [
       "2022"
      ]
     },
     "execution_count": 3,
     "metadata": {},
     "output_type": "execute_result"
    }
   ],
   "source": [
    "config.SEED"
   ]
  },
  {
   "cell_type": "code",
   "execution_count": 4,
   "metadata": {},
   "outputs": [
    {
     "data": {
      "text/plain": [
       "'FashionMNISTDir'"
      ]
     },
     "execution_count": 4,
     "metadata": {},
     "output_type": "execute_result"
    }
   ],
   "source": [
    "config.ROOT_DATA_DIR"
   ]
  },
  {
   "cell_type": "code",
   "execution_count": 5,
   "metadata": {
    "scrolled": true
   },
   "outputs": [],
   "source": [
    "train_data = datasets.FashionMNIST(\n",
    "                                   root = config.ROOT_DATA_DIR,\n",
    "                                    train = True,\n",
    "                                    download = True,\n",
    "                                    transform = transforms.ToTensor()                                   \n",
    ")\n",
    "\n",
    "test_data = datasets.FashionMNIST(\n",
    "                                   root = config.ROOT_DATA_DIR,\n",
    "                                    train = False,\n",
    "                                    download = True,\n",
    "                                    transform = transforms.ToTensor()                                   \n",
    ")"
   ]
  },
  {
   "cell_type": "code",
   "execution_count": 6,
   "metadata": {
    "scrolled": true
   },
   "outputs": [
    {
     "data": {
      "text/plain": [
       "Dataset FashionMNIST\n",
       "    Number of datapoints: 60000\n",
       "    Root location: FashionMNISTDir\n",
       "    Split: Train\n",
       "    StandardTransform\n",
       "Transform: ToTensor()"
      ]
     },
     "execution_count": 6,
     "metadata": {},
     "output_type": "execute_result"
    }
   ],
   "source": [
    "train_data"
   ]
  },
  {
   "cell_type": "code",
   "execution_count": 7,
   "metadata": {},
   "outputs": [
    {
     "data": {
      "text/plain": [
       "Dataset FashionMNIST\n",
       "    Number of datapoints: 10000\n",
       "    Root location: FashionMNISTDir\n",
       "    Split: Test\n",
       "    StandardTransform\n",
       "Transform: ToTensor()"
      ]
     },
     "execution_count": 7,
     "metadata": {},
     "output_type": "execute_result"
    }
   ],
   "source": [
    "test_data"
   ]
  },
  {
   "cell_type": "code",
   "execution_count": 8,
   "metadata": {},
   "outputs": [
    {
     "data": {
      "text/plain": [
       "torch.Size([60000, 28, 28])"
      ]
     },
     "execution_count": 8,
     "metadata": {},
     "output_type": "execute_result"
    }
   ],
   "source": [
    "train_data.data.shape"
   ]
  },
  {
   "cell_type": "code",
   "execution_count": 9,
   "metadata": {},
   "outputs": [
    {
     "data": {
      "text/plain": [
       "torch.Size([10000, 28, 28])"
      ]
     },
     "execution_count": 9,
     "metadata": {},
     "output_type": "execute_result"
    }
   ],
   "source": [
    "test_data.data.shape"
   ]
  },
  {
   "cell_type": "code",
   "execution_count": 10,
   "metadata": {},
   "outputs": [
    {
     "data": {
      "text/plain": [
       "{'T-shirt/top': 0,\n",
       " 'Trouser': 1,\n",
       " 'Pullover': 2,\n",
       " 'Dress': 3,\n",
       " 'Coat': 4,\n",
       " 'Sandal': 5,\n",
       " 'Shirt': 6,\n",
       " 'Sneaker': 7,\n",
       " 'Bag': 8,\n",
       " 'Ankle boot': 9}"
      ]
     },
     "execution_count": 10,
     "metadata": {},
     "output_type": "execute_result"
    }
   ],
   "source": [
    "train_data.class_to_idx"
   ]
  },
  {
   "cell_type": "code",
   "execution_count": 11,
   "metadata": {},
   "outputs": [
    {
     "name": "stderr",
     "output_type": "stream",
     "text": [
      "C:\\Users\\Lenovo\\Downloads\\Ineuron\\deep_learning_project\\CNN_Pytorch_implementation_13_MARCH\\Pytorch-CNN\\env\\lib\\site-packages\\torchvision\\datasets\\mnist.py:65: UserWarning: train_labels has been renamed targets\n",
      "  warnings.warn(\"train_labels has been renamed targets\")\n"
     ]
    },
    {
     "data": {
      "text/plain": [
       "tensor([9, 0, 0,  ..., 3, 0, 5])"
      ]
     },
     "execution_count": 11,
     "metadata": {},
     "output_type": "execute_result"
    }
   ],
   "source": [
    "train_data.train_labels"
   ]
  },
  {
   "cell_type": "code",
   "execution_count": 12,
   "metadata": {},
   "outputs": [
    {
     "data": {
      "text/plain": [
       "tensor([9, 0, 0,  ..., 3, 0, 5])"
      ]
     },
     "execution_count": 12,
     "metadata": {},
     "output_type": "execute_result"
    }
   ],
   "source": [
    "train_data.targets"
   ]
  },
  {
   "cell_type": "code",
   "execution_count": 13,
   "metadata": {},
   "outputs": [
    {
     "data": {
      "text/plain": [
       "{'T-shirt/top': 0,\n",
       " 'Trouser': 1,\n",
       " 'Pullover': 2,\n",
       " 'Dress': 3,\n",
       " 'Coat': 4,\n",
       " 'Sandal': 5,\n",
       " 'Shirt': 6,\n",
       " 'Sneaker': 7,\n",
       " 'Bag': 8,\n",
       " 'Ankle boot': 9}"
      ]
     },
     "execution_count": 13,
     "metadata": {},
     "output_type": "execute_result"
    }
   ],
   "source": [
    "given_label_map = train_data.class_to_idx\n",
    "given_label_map"
   ]
  },
  {
   "cell_type": "code",
   "execution_count": 14,
   "metadata": {},
   "outputs": [
    {
     "data": {
      "text/plain": [
       "{0: 'T-shirt/top',\n",
       " 1: 'Trouser',\n",
       " 2: 'Pullover',\n",
       " 3: 'Dress',\n",
       " 4: 'Coat',\n",
       " 5: 'Sandal',\n",
       " 6: 'Shirt',\n",
       " 7: 'Sneaker',\n",
       " 8: 'Bag',\n",
       " 9: 'Ankle boot'}"
      ]
     },
     "execution_count": 14,
     "metadata": {},
     "output_type": "execute_result"
    }
   ],
   "source": [
    "label_map = {v:k for k,v in given_label_map.items()}\n",
    "label_map"
   ]
  },
  {
   "cell_type": "markdown",
   "metadata": {},
   "source": [
    "# Visualize one of the samples"
   ]
  },
  {
   "cell_type": "code",
   "execution_count": 15,
   "metadata": {
    "scrolled": true
   },
   "outputs": [
    {
     "data": {
      "text/plain": [
       "tensor([[  0,   0,   0,   0,   0,   1,   0,   0,   0,   0,  41, 188, 103,  54,\n",
       "          48,  43,  87, 168, 133,  16,   0,   0,   0,   0,   0,   0,   0,   0],\n",
       "        [  0,   0,   0,   1,   0,   0,   0,  49, 136, 219, 216, 228, 236, 255,\n",
       "         255, 255, 255, 217, 215, 254, 231, 160,  45,   0,   0,   0,   0,   0],\n",
       "        [  0,   0,   0,   0,   0,  14, 176, 222, 224, 212, 203, 198, 196, 200,\n",
       "         215, 204, 202, 201, 201, 201, 209, 218, 224, 164,   0,   0,   0,   0],\n",
       "        [  0,   0,   0,   0,   0, 188, 219, 200, 198, 202, 198, 199, 199, 201,\n",
       "         196, 198, 198, 200, 200, 200, 200, 201, 200, 225,  41,   0,   0,   0],\n",
       "        [  0,   0,   0,   0,  51, 219, 199, 203, 203, 212, 238, 248, 250, 245,\n",
       "         249, 246, 247, 252, 248, 235, 207, 203, 203, 222, 140,   0,   0,   0],\n",
       "        [  0,   0,   0,   0, 116, 226, 206, 204, 207, 204, 101,  75,  47,  73,\n",
       "          48,  50,  45,  51,  63, 113, 222, 202, 206, 220, 224,   0,   0,   0],\n",
       "        [  0,   0,   0,   0, 200, 222, 209, 203, 215, 200,   0,  70,  98,   0,\n",
       "         103,  59,  68,  71,  49,   0, 219, 206, 214, 210, 250,  38,   0,   0],\n",
       "        [  0,   0,   0,   0, 247, 218, 212, 210, 215, 214,   0, 254, 243, 139,\n",
       "         255, 174, 251, 255, 205,   0, 215, 217, 214, 208, 220,  95,   0,   0],\n",
       "        [  0,   0,   0,  45, 226, 214, 214, 215, 224, 205,   0,  42,  35,  60,\n",
       "          16,  17,  12,  13,  70,   0, 189, 216, 212, 206, 212, 156,   0,   0],\n",
       "        [  0,   0,   0, 164, 235, 214, 211, 220, 216, 201,  52,  71,  89,  94,\n",
       "          83,  78,  70,  76,  92,  87, 206, 207, 222, 213, 219, 208,   0,   0],\n",
       "        [  0,   0,   0, 106, 187, 223, 237, 248, 211, 198, 252, 250, 248, 245,\n",
       "         248, 252, 253, 250, 252, 239, 201, 212, 225, 215, 193, 113,   0,   0],\n",
       "        [  0,   0,   0,   0,   0,  17,  54, 159, 222, 193, 208, 192, 197, 200,\n",
       "         200, 200, 200, 201, 203, 195, 210, 165,   0,   0,   0,   0,   0,   0],\n",
       "        [  0,   0,   0,   0,   0,   0,   0,  47, 225, 192, 214, 203, 206, 204,\n",
       "         204, 205, 206, 204, 212, 197, 218, 107,   0,   0,   0,   0,   0,   0],\n",
       "        [  0,   0,   0,   0,   1,   6,   0,  46, 212, 195, 212, 202, 206, 205,\n",
       "         204, 205, 206, 204, 212, 200, 218,  91,   0,   3,   1,   0,   0,   0],\n",
       "        [  0,   0,   0,   0,   0,   1,   0,  11, 197, 199, 205, 202, 205, 206,\n",
       "         204, 205, 207, 204, 205, 205, 218,  77,   0,   5,   0,   0,   0,   0],\n",
       "        [  0,   0,   0,   0,   0,   3,   0,   2, 191, 198, 201, 205, 206, 205,\n",
       "         205, 206, 209, 206, 199, 209, 219,  74,   0,   5,   0,   0,   0,   0],\n",
       "        [  0,   0,   0,   0,   0,   2,   0,   0, 188, 197, 200, 207, 207, 204,\n",
       "         207, 207, 210, 208, 198, 207, 221,  72,   0,   4,   0,   0,   0,   0],\n",
       "        [  0,   0,   0,   0,   0,   2,   0,   0, 215, 198, 203, 206, 208, 205,\n",
       "         207, 207, 210, 208, 200, 202, 222,  75,   0,   4,   0,   0,   0,   0],\n",
       "        [  0,   0,   0,   0,   0,   1,   0,   0, 212, 198, 209, 206, 209, 206,\n",
       "         208, 207, 211, 206, 205, 198, 221,  80,   0,   3,   0,   0,   0,   0],\n",
       "        [  0,   0,   0,   0,   0,   1,   0,   0, 204, 201, 205, 208, 207, 205,\n",
       "         211, 205, 210, 210, 209, 195, 221,  96,   0,   3,   0,   0,   0,   0],\n",
       "        [  0,   0,   0,   0,   0,   1,   0,   0, 202, 201, 205, 209, 207, 205,\n",
       "         213, 206, 210, 209, 210, 194, 217, 105,   0,   2,   0,   0,   0,   0],\n",
       "        [  0,   0,   0,   0,   0,   1,   0,   0, 204, 204, 205, 208, 207, 205,\n",
       "         215, 207, 210, 208, 211, 193, 213, 115,   0,   2,   0,   0,   0,   0],\n",
       "        [  0,   0,   0,   0,   0,   0,   0,   0, 204, 207, 207, 208, 206, 206,\n",
       "         215, 210, 210, 207, 212, 195, 210, 118,   0,   2,   0,   0,   0,   0],\n",
       "        [  0,   0,   0,   0,   0,   1,   0,   0, 198, 208, 208, 208, 204, 207,\n",
       "         212, 212, 210, 207, 211, 196, 207, 121,   0,   1,   0,   0,   0,   0],\n",
       "        [  0,   0,   0,   0,   0,   1,   0,   0, 198, 210, 207, 208, 206, 209,\n",
       "         213, 212, 211, 207, 210, 197, 207, 124,   0,   1,   0,   0,   0,   0],\n",
       "        [  0,   0,   0,   0,   0,   0,   0,   0, 172, 210, 203, 201, 199, 204,\n",
       "         207, 205, 204, 201, 205, 197, 206, 127,   0,   0,   0,   0,   0,   0],\n",
       "        [  0,   0,   0,   0,   0,   0,   0,   0, 188, 221, 214, 234, 236, 238,\n",
       "         244, 244, 244, 240, 243, 214, 224, 162,   0,   2,   0,   0,   0,   0],\n",
       "        [  0,   0,   0,   0,   0,   1,   0,   0, 139, 146, 130, 135, 135, 137,\n",
       "         125, 124, 125, 121, 119, 114, 130,  76,   0,   0,   0,   0,   0,   0]],\n",
       "       dtype=torch.uint8)"
      ]
     },
     "execution_count": 15,
     "metadata": {},
     "output_type": "execute_result"
    }
   ],
   "source": [
    "train_data.data[1]"
   ]
  },
  {
   "cell_type": "code",
   "execution_count": 16,
   "metadata": {},
   "outputs": [
    {
     "data": {
      "text/plain": [
       "torch.Size([28, 28])"
      ]
     },
     "execution_count": 16,
     "metadata": {},
     "output_type": "execute_result"
    }
   ],
   "source": [
    "train_data.data[1].shape"
   ]
  },
  {
   "cell_type": "code",
   "execution_count": 17,
   "metadata": {},
   "outputs": [
    {
     "data": {
      "text/plain": [
       "<matplotlib.image.AxesImage at 0x206d856f248>"
      ]
     },
     "execution_count": 17,
     "metadata": {},
     "output_type": "execute_result"
    },
    {
     "data": {
      "image/png": "[encoded data removed]",
      "text/plain": [
       "<Figure size 432x288 with 1 Axes>"
      ]
     },
     "metadata": {
      "needs_background": "light"
     },
     "output_type": "display_data"
    }
   ],
   "source": [
    "plt.imshow(train_data.data[1])"
   ]
  },
  {
   "cell_type": "code",
   "execution_count": 18,
   "metadata": {},
   "outputs": [
    {
     "name": "stdout",
     "output_type": "stream",
     "text": [
      "T-shirt/top\n"
     ]
    },
    {
     "data": {
      "image/png": "[encoded data removed]",
      "text/plain": [
       "<Figure size 432x288 with 1 Axes>"
      ]
     },
     "metadata": {
      "needs_background": "light"
     },
     "output_type": "display_data"
    }
   ],
   "source": [
    "plt.imshow(train_data.data[1],cmap = 'gray')\n",
    "print(label_map[train_data.targets[1].item()])"
   ]
  },
  {
   "cell_type": "code",
   "execution_count": 19,
   "metadata": {},
   "outputs": [
    {
     "data": {
      "text/plain": [
       "0"
      ]
     },
     "execution_count": 19,
     "metadata": {},
     "output_type": "execute_result"
    }
   ],
   "source": [
    "train_data.targets[1].item()"
   ]
  },
  {
   "cell_type": "code",
   "execution_count": 20,
   "metadata": {},
   "outputs": [
    {
     "data": {
      "image/png": "[encoded data removed]",
      "text/plain": [
       "<Figure size 432x288 with 1 Axes>"
      ]
     },
     "metadata": {
      "needs_background": "light"
     },
     "output_type": "display_data"
    }
   ],
   "source": [
    "def view_sample_img(data, idx, label_map):\n",
    "    \n",
    "    plt.imshow(train_data.data[idx],cmap = 'gray')\n",
    "    plt.title(f'data_label:{label_map[train_data.targets[idx].item()]}')\n",
    "    plt.axis('off')\n",
    "\n",
    "view_sample_img(train_data, 4, label_map)"
   ]
  },
  {
   "cell_type": "markdown",
   "metadata": {},
   "source": [
    "# Creating DataLoader"
   ]
  },
  {
   "cell_type": "code",
   "execution_count": 21,
   "metadata": {},
   "outputs": [],
   "source": [
    "train_data_loader = DataLoader(\n",
    "                                dataset = train_data,\n",
    "                                batch_size = config.BATCH_SIZE,\n",
    "                                shuffle = True\n",
    ")\n",
    "\n",
    "test_daa_loader = DataLoader(\n",
    "                                dataset = test_data,\n",
    "                                batch_size = config.BATCH_SIZE,\n",
    "                                shuffle = True\n",
    ")"
   ]
  },
  {
   "cell_type": "code",
   "execution_count": 22,
   "metadata": {},
   "outputs": [
    {
     "data": {
      "text/plain": [
       "<torch.utils.data.dataloader.DataLoader at 0x206d8752788>"
      ]
     },
     "execution_count": 22,
     "metadata": {},
     "output_type": "execute_result"
    }
   ],
   "source": [
    "train_data_loader"
   ]
  },
  {
   "cell_type": "code",
   "execution_count": 23,
   "metadata": {},
   "outputs": [
    {
     "data": {
      "text/plain": [
       "torch.utils.data.dataloader.DataLoader"
      ]
     },
     "execution_count": 23,
     "metadata": {},
     "output_type": "execute_result"
    }
   ],
   "source": [
    "type(train_data_loader)"
   ]
  },
  {
   "cell_type": "code",
   "execution_count": 24,
   "metadata": {},
   "outputs": [
    {
     "name": "stdout",
     "output_type": "stream",
     "text": [
      "torch.Size([32, 1, 28, 28])\n",
      "torch.Size([32])\n"
     ]
    }
   ],
   "source": [
    "for images,labels in train_data_loader:\n",
    "    print(images.shape)\n",
    "    print(labels.shape)\n",
    "    break"
   ]
  },
  {
   "cell_type": "code",
   "execution_count": 25,
   "metadata": {},
   "outputs": [
    {
     "data": {
      "text/plain": [
       "tensor([[[0.0000, 0.0000, 0.0000, 0.0000, 0.0000, 0.0000, 0.0000, 0.0000,\n",
       "          0.0000, 0.0000, 0.0039, 0.3451, 0.3490, 0.4314, 0.4588, 0.4157,\n",
       "          0.3961, 0.2510, 0.0000, 0.0000, 0.0000, 0.0000, 0.0000, 0.0000,\n",
       "          0.0000, 0.0000, 0.0000, 0.0000],\n",
       "         [0.0000, 0.0000, 0.0000, 0.0000, 0.0000, 0.0000, 0.0000, 0.0078,\n",
       "          0.0000, 0.0863, 0.8510, 0.9373, 0.8863, 0.9804, 0.9843, 0.8980,\n",
       "          0.9176, 0.9137, 1.0000, 0.1765, 0.0000, 0.0118, 0.0000, 0.0000,\n",
       "          0.0000, 0.0000, 0.0000, 0.0000],\n",
       "         [0.0000, 0.0000, 0.0000, 0.0000, 0.0000, 0.0000, 0.0000, 0.0000,\n",
       "          0.0000, 0.8157, 0.9176, 0.8863, 0.9137, 0.8706, 0.8745, 0.8667,\n",
       "          0.8745, 0.9098, 0.9176, 0.7569, 0.0000, 0.0000, 0.0000, 0.0000,\n",
       "          0.0000, 0.0000, 0.0000, 0.0000],\n",
       "         [0.0000, 0.0000, 0.0000, 0.0000, 0.0000, 0.0039, 0.0000, 0.0078,\n",
       "          0.7686, 0.8863, 0.8353, 0.8745, 0.9725, 0.8314, 0.7255, 0.7843,\n",
       "          0.9647, 0.9373, 0.8353, 0.8588, 0.7922, 0.3647, 0.0000, 0.0000,\n",
       "          0.0000, 0.0000, 0.0000, 0.0000],\n",
       "         [0.0000, 0.0000, 0.0000, 0.0000, 0.0000, 0.0000, 0.0000, 0.7608,\n",
       "          0.9529, 0.8431, 0.8588, 0.8078, 0.9922, 0.7961, 0.7373, 0.5843,\n",
       "          0.9843, 0.8667, 0.8078, 0.8471, 0.8745, 0.8863, 0.0000, 0.0000,\n",
       "          0.0000, 0.0000, 0.0000, 0.0000],\n",
       "         [0.0000, 0.0000, 0.0000, 0.0000, 0.0000, 0.0000, 0.0000, 0.8667,\n",
       "          0.8392, 0.8471, 0.8745, 0.8510, 0.8471, 0.9216, 0.9922, 0.9686,\n",
       "          0.9255, 0.8353, 0.8627, 0.8392, 0.7686, 0.8902, 0.3098, 0.0000,\n",
       "          0.0000, 0.0000, 0.0000, 0.0000],\n",
       "         [0.0000, 0.0000, 0.0000, 0.0000, 0.0000, 0.0000, 0.2902, 0.9098,\n",
       "          0.8471, 0.8353, 0.8157, 0.8510, 0.8549, 0.8863, 0.9882, 0.9373,\n",
       "          0.8510, 0.8549, 0.7529, 0.8000, 0.8039, 0.9059, 0.5294, 0.0000,\n",
       "          0.0000, 0.0000, 0.0000, 0.0000],\n",
       "         [0.0000, 0.0000, 0.0000, 0.0000, 0.0000, 0.0000, 0.4000, 0.9059,\n",
       "          0.8510, 0.9137, 0.8235, 0.7922, 0.8314, 0.8118, 0.7294, 0.8784,\n",
       "          0.9294, 0.8471, 0.7961, 0.8745, 0.8588, 0.8824, 0.7255, 0.0000,\n",
       "          0.0000, 0.0000, 0.0000, 0.0000],\n",
       "         [0.0000, 0.0000, 0.0000, 0.0000, 0.0000, 0.0000, 0.5922, 0.9020,\n",
       "          0.8471, 0.9412, 0.8784, 0.8039, 0.8000, 0.8314, 0.8314, 0.9059,\n",
       "          0.8353, 0.7882, 0.8196, 0.8902, 0.8784, 0.8745, 0.8118, 0.0000,\n",
       "          0.0000, 0.0000, 0.0000, 0.0000],\n",
       "         [0.0000, 0.0000, 0.0000, 0.0000, 0.0000, 0.0000, 0.7569, 0.8824,\n",
       "          0.8784, 0.9529, 0.8627, 0.8118, 0.7961, 0.8235, 0.9020, 0.8627,\n",
       "          0.8078, 0.8039, 0.8431, 0.9098, 0.8980, 0.8549, 0.9059, 0.0000,\n",
       "          0.0000, 0.0000, 0.0000, 0.0000],\n",
       "         [0.0000, 0.0000, 0.0000, 0.0000, 0.0000, 0.0000, 0.8627, 0.8745,\n",
       "          0.8980, 0.9961, 0.8471, 0.8392, 0.7765, 0.8902, 0.8784, 0.8275,\n",
       "          0.8196, 0.8039, 0.8275, 0.9137, 0.8980, 0.8392, 0.9882, 0.0000,\n",
       "          0.0000, 0.0000, 0.0000, 0.0000],\n",
       "         [0.0000, 0.0000, 0.0000, 0.0000, 0.0000, 0.0000, 0.9333, 0.8902,\n",
       "          0.9373, 0.7529, 0.8549, 0.8588, 0.7843, 0.8784, 0.7961, 0.8275,\n",
       "          0.8353, 0.8118, 0.8392, 0.9373, 0.9333, 0.8431, 0.9961, 0.0078,\n",
       "          0.0000, 0.0000, 0.0000, 0.0000],\n",
       "         [0.0000, 0.0000, 0.0000, 0.0000, 0.0000, 0.0000, 0.8353, 0.9059,\n",
       "          0.9373, 0.4824, 0.8902, 0.8118, 0.8000, 0.8588, 0.7765, 0.8392,\n",
       "          0.8235, 0.7961, 0.9137, 0.5294, 1.0000, 0.8549, 0.8745, 0.0706,\n",
       "          0.0000, 0.0000, 0.0000, 0.0000],\n",
       "         [0.0000, 0.0000, 0.0000, 0.0000, 0.0000, 0.0000, 0.8824, 0.9098,\n",
       "          1.0000, 0.4000, 0.9686, 0.8157, 0.8118, 0.8471, 0.8000, 0.8627,\n",
       "          0.8157, 0.8275, 0.9647, 0.3412, 1.0000, 0.8588, 0.8863, 0.1176,\n",
       "          0.0000, 0.0000, 0.0000, 0.0000],\n",
       "         [0.0000, 0.0000, 0.0000, 0.0000, 0.0000, 0.0863, 0.8980, 0.8980,\n",
       "          1.0000, 0.3373, 0.9765, 0.8275, 0.8431, 0.8627, 0.8471, 0.8510,\n",
       "          0.8549, 0.8118, 0.9686, 0.3137, 1.0000, 0.8706, 0.8941, 0.2078,\n",
       "          0.0000, 0.0000, 0.0000, 0.0000],\n",
       "         [0.0000, 0.0000, 0.0000, 0.0000, 0.0000, 0.1804, 0.9020, 0.8902,\n",
       "          0.9373, 0.3529, 0.9961, 0.7961, 0.8510, 0.8627, 0.8000, 0.8471,\n",
       "          0.8588, 0.7843, 1.0000, 0.2471, 0.9137, 0.8980, 0.9176, 0.3804,\n",
       "          0.0000, 0.0000, 0.0000, 0.0000],\n",
       "         [0.0000, 0.0000, 0.0000, 0.0000, 0.0000, 0.2471, 0.9098, 0.8980,\n",
       "          0.8314, 0.4196, 0.9961, 0.8157, 0.8667, 0.8784, 0.8157, 0.8549,\n",
       "          0.8745, 0.8784, 1.0000, 0.3098, 0.7882, 0.9098, 0.9059, 0.4902,\n",
       "          0.0000, 0.0000, 0.0000, 0.0000],\n",
       "         [0.0000, 0.0000, 0.0000, 0.0000, 0.0000, 0.2706, 0.9176, 0.9098,\n",
       "          0.8667, 0.7412, 0.9255, 0.8275, 0.8667, 0.8667, 0.8510, 0.8549,\n",
       "          0.8902, 0.6000, 0.8706, 0.6118, 0.7804, 0.9176, 0.9059, 0.5176,\n",
       "          0.0000, 0.0000, 0.0000, 0.0000],\n",
       "         [0.0000, 0.0000, 0.0000, 0.0000, 0.0000, 0.3490, 0.9216, 0.9255,\n",
       "          0.8314, 0.7686, 0.8941, 0.8000, 0.8863, 0.8706, 0.8275, 0.8549,\n",
       "          0.8824, 0.6902, 0.9294, 0.6118, 0.6667, 0.9255, 0.9059, 0.5725,\n",
       "          0.0000, 0.0000, 0.0000, 0.0000],\n",
       "         [0.0000, 0.0000, 0.0000, 0.0000, 0.0000, 0.4706, 0.9333, 0.9294,\n",
       "          0.7961, 0.7451, 0.9098, 0.8196, 0.9059, 0.8627, 0.8314, 0.8588,\n",
       "          0.8863, 0.8706, 1.0000, 0.5686, 0.5412, 1.0000, 0.9020, 0.6118,\n",
       "          0.0000, 0.0000, 0.0000, 0.0000],\n",
       "         [0.0000, 0.0000, 0.0000, 0.0000, 0.0000, 0.4902, 0.9373, 0.9451,\n",
       "          0.7137, 0.7804, 0.9176, 0.8275, 0.8706, 0.8824, 0.8392, 0.8627,\n",
       "          0.8784, 0.8235, 0.9961, 0.5765, 0.5843, 0.9412, 0.9098, 0.6196,\n",
       "          0.0000, 0.0000, 0.0000, 0.0000],\n",
       "         [0.0000, 0.0000, 0.0000, 0.0000, 0.0000, 0.5098, 0.9216, 0.9529,\n",
       "          0.5451, 0.7686, 0.9333, 0.8314, 0.8549, 0.8941, 0.8235, 0.8510,\n",
       "          0.8706, 0.8314, 1.0000, 0.5647, 0.5765, 0.9333, 0.9059, 0.5804,\n",
       "          0.0000, 0.0000, 0.0000, 0.0000],\n",
       "         [0.0000, 0.0000, 0.0000, 0.0000, 0.0000, 0.6471, 0.9922, 1.0000,\n",
       "          0.5608, 0.7765, 0.9373, 0.8353, 0.8667, 0.8902, 0.8667, 0.8824,\n",
       "          0.8784, 0.8353, 1.0000, 0.5882, 0.6157, 1.0000, 0.9725, 0.6431,\n",
       "          0.0000, 0.0000, 0.0000, 0.0000],\n",
       "         [0.0000, 0.0000, 0.0000, 0.0000, 0.0000, 0.0627, 0.6510, 0.7333,\n",
       "          0.0157, 0.8824, 0.8980, 0.8353, 0.8745, 0.8941, 0.8510, 0.8745,\n",
       "          0.8784, 0.8588, 0.9412, 0.7216, 0.0078, 0.7922, 0.8431, 0.0706,\n",
       "          0.0000, 0.0000, 0.0000, 0.0000],\n",
       "         [0.0000, 0.0000, 0.0000, 0.0000, 0.0000, 0.0000, 0.0000, 0.0000,\n",
       "          0.0000, 0.8863, 0.9098, 0.8471, 0.8706, 0.8902, 0.8510, 0.8824,\n",
       "          0.8902, 0.8745, 0.9451, 0.7294, 0.0000, 0.0000, 0.0000, 0.0000,\n",
       "          0.0000, 0.0000, 0.0000, 0.0000],\n",
       "         [0.0000, 0.0000, 0.0000, 0.0000, 0.0000, 0.0000, 0.0078, 0.0039,\n",
       "          0.0000, 0.7765, 0.9294, 0.8471, 0.8824, 0.9059, 0.8863, 0.8863,\n",
       "          0.8980, 0.8745, 0.9686, 0.4941, 0.0000, 0.0157, 0.0000, 0.0000,\n",
       "          0.0000, 0.0000, 0.0000, 0.0000],\n",
       "         [0.0000, 0.0000, 0.0000, 0.0000, 0.0000, 0.0000, 0.0000, 0.0078,\n",
       "          0.0000, 0.5451, 1.0000, 0.9020, 0.9255, 0.9569, 0.9333, 0.9490,\n",
       "          0.9137, 0.9137, 1.0000, 0.2392, 0.0000, 0.0157, 0.0000, 0.0000,\n",
       "          0.0000, 0.0000, 0.0000, 0.0000],\n",
       "         [0.0000, 0.0000, 0.0000, 0.0000, 0.0000, 0.0000, 0.0000, 0.0000,\n",
       "          0.0000, 0.0000, 0.5686, 0.7373, 0.7451, 0.7961, 0.7137, 0.7294,\n",
       "          0.7451, 0.7647, 0.4471, 0.0000, 0.0000, 0.0000, 0.0000, 0.0000,\n",
       "          0.0000, 0.0000, 0.0000, 0.0000]]])"
      ]
     },
     "execution_count": 25,
     "metadata": {},
     "output_type": "execute_result"
    }
   ],
   "source": [
    "images[0]"
   ]
  },
  {
   "cell_type": "code",
   "execution_count": 26,
   "metadata": {},
   "outputs": [
    {
     "data": {
      "text/plain": [
       "torch.Size([1, 28, 28])"
      ]
     },
     "execution_count": 26,
     "metadata": {},
     "output_type": "execute_result"
    }
   ],
   "source": [
    "images[0].shape"
   ]
  },
  {
   "cell_type": "code",
   "execution_count": 27,
   "metadata": {},
   "outputs": [
    {
     "data": {
      "text/plain": [
       "torch.Size([28, 28, 1])"
      ]
     },
     "execution_count": 27,
     "metadata": {},
     "output_type": "execute_result"
    }
   ],
   "source": [
    "images[0].permute(1,2,0).shape"
   ]
  },
  {
   "cell_type": "code",
   "execution_count": 28,
   "metadata": {},
   "outputs": [
    {
     "data": {
      "text/plain": [
       "torch.Size([28, 28])"
      ]
     },
     "execution_count": 28,
     "metadata": {},
     "output_type": "execute_result"
    }
   ],
   "source": [
    "images[0].squeeze().shape"
   ]
  },
  {
   "cell_type": "code",
   "execution_count": 29,
   "metadata": {},
   "outputs": [
    {
     "data": {
      "text/plain": [
       "<matplotlib.image.AxesImage at 0x206d894e108>"
      ]
     },
     "execution_count": 29,
     "metadata": {},
     "output_type": "execute_result"
    },
    {
     "data": {
      "image/png": "[encoded data removed]",
      "text/plain": [
       "<Figure size 432x288 with 1 Axes>"
      ]
     },
     "metadata": {
      "needs_background": "light"
     },
     "output_type": "display_data"
    }
   ],
   "source": [
    "plt.imshow(images[0].squeeze())"
   ]
  },
  {
   "cell_type": "code",
   "execution_count": 30,
   "metadata": {},
   "outputs": [
    {
     "data": {
      "text/plain": [
       "array([[0.        , 0.        , 0.        , 0.        , 0.        ,\n",
       "        0.        , 0.        , 0.        , 0.        , 0.        ,\n",
       "        0.00392157, 0.34509805, 0.34901962, 0.43137255, 0.45882353,\n",
       "        0.41568628, 0.39607844, 0.2509804 , 0.        , 0.        ,\n",
       "        0.        , 0.        , 0.        , 0.        , 0.        ,\n",
       "        0.        , 0.        , 0.        ],\n",
       "       [0.        , 0.        , 0.        , 0.        , 0.        ,\n",
       "        0.        , 0.        , 0.00784314, 0.        , 0.08627451,\n",
       "        0.8509804 , 0.9372549 , 0.8862745 , 0.98039216, 0.9843137 ,\n",
       "        0.8980392 , 0.91764706, 0.9137255 , 1.        , 0.1764706 ,\n",
       "        0.        , 0.01176471, 0.        , 0.        , 0.        ,\n",
       "        0.        , 0.        , 0.        ],\n",
       "       [0.        , 0.        , 0.        , 0.        , 0.        ,\n",
       "        0.        , 0.        , 0.        , 0.        , 0.8156863 ,\n",
       "        0.91764706, 0.8862745 , 0.9137255 , 0.87058824, 0.8745098 ,\n",
       "        0.8666667 , 0.8745098 , 0.9098039 , 0.91764706, 0.75686276,\n",
       "        0.        , 0.        , 0.        , 0.        , 0.        ,\n",
       "        0.        , 0.        , 0.        ],\n",
       "       [0.        , 0.        , 0.        , 0.        , 0.        ,\n",
       "        0.00392157, 0.        , 0.00784314, 0.76862746, 0.8862745 ,\n",
       "        0.8352941 , 0.8745098 , 0.972549  , 0.83137256, 0.7254902 ,\n",
       "        0.78431374, 0.9647059 , 0.9372549 , 0.8352941 , 0.85882354,\n",
       "        0.7921569 , 0.3647059 , 0.        , 0.        , 0.        ,\n",
       "        0.        , 0.        , 0.        ],\n",
       "       [0.        , 0.        , 0.        , 0.        , 0.        ,\n",
       "        0.        , 0.        , 0.7607843 , 0.9529412 , 0.84313726,\n",
       "        0.85882354, 0.80784315, 0.99215686, 0.79607844, 0.7372549 ,\n",
       "        0.58431375, 0.9843137 , 0.8666667 , 0.80784315, 0.84705883,\n",
       "        0.8745098 , 0.8862745 , 0.        , 0.        , 0.        ,\n",
       "        0.        , 0.        , 0.        ],\n",
       "       [0.        , 0.        , 0.        , 0.        , 0.        ,\n",
       "        0.        , 0.        , 0.8666667 , 0.8392157 , 0.84705883,\n",
       "        0.8745098 , 0.8509804 , 0.84705883, 0.92156863, 0.99215686,\n",
       "        0.96862745, 0.9254902 , 0.8352941 , 0.8627451 , 0.8392157 ,\n",
       "        0.76862746, 0.8901961 , 0.30980393, 0.        , 0.        ,\n",
       "        0.        , 0.        , 0.        ],\n",
       "       [0.        , 0.        , 0.        , 0.        , 0.        ,\n",
       "        0.        , 0.2901961 , 0.9098039 , 0.84705883, 0.8352941 ,\n",
       "        0.8156863 , 0.8509804 , 0.85490197, 0.8862745 , 0.9882353 ,\n",
       "        0.9372549 , 0.8509804 , 0.85490197, 0.7529412 , 0.8       ,\n",
       "        0.8039216 , 0.90588236, 0.5294118 , 0.        , 0.        ,\n",
       "        0.        , 0.        , 0.        ],\n",
       "       [0.        , 0.        , 0.        , 0.        , 0.        ,\n",
       "        0.        , 0.4       , 0.90588236, 0.8509804 , 0.9137255 ,\n",
       "        0.8235294 , 0.7921569 , 0.83137256, 0.8117647 , 0.7294118 ,\n",
       "        0.8784314 , 0.92941177, 0.84705883, 0.79607844, 0.8745098 ,\n",
       "        0.85882354, 0.88235295, 0.7254902 , 0.        , 0.        ,\n",
       "        0.        , 0.        , 0.        ],\n",
       "       [0.        , 0.        , 0.        , 0.        , 0.        ,\n",
       "        0.        , 0.5921569 , 0.9019608 , 0.84705883, 0.9411765 ,\n",
       "        0.8784314 , 0.8039216 , 0.8       , 0.83137256, 0.83137256,\n",
       "        0.90588236, 0.8352941 , 0.7882353 , 0.81960785, 0.8901961 ,\n",
       "        0.8784314 , 0.8745098 , 0.8117647 , 0.        , 0.        ,\n",
       "        0.        , 0.        , 0.        ],\n",
       "       [0.        , 0.        , 0.        , 0.        , 0.        ,\n",
       "        0.        , 0.75686276, 0.88235295, 0.8784314 , 0.9529412 ,\n",
       "        0.8627451 , 0.8117647 , 0.79607844, 0.8235294 , 0.9019608 ,\n",
       "        0.8627451 , 0.80784315, 0.8039216 , 0.84313726, 0.9098039 ,\n",
       "        0.8980392 , 0.85490197, 0.90588236, 0.        , 0.        ,\n",
       "        0.        , 0.        , 0.        ],\n",
       "       [0.        , 0.        , 0.        , 0.        , 0.        ,\n",
       "        0.        , 0.8627451 , 0.8745098 , 0.8980392 , 0.99607843,\n",
       "        0.84705883, 0.8392157 , 0.7764706 , 0.8901961 , 0.8784314 ,\n",
       "        0.827451  , 0.81960785, 0.8039216 , 0.827451  , 0.9137255 ,\n",
       "        0.8980392 , 0.8392157 , 0.9882353 , 0.        , 0.        ,\n",
       "        0.        , 0.        , 0.        ],\n",
       "       [0.        , 0.        , 0.        , 0.        , 0.        ,\n",
       "        0.        , 0.93333334, 0.8901961 , 0.9372549 , 0.7529412 ,\n",
       "        0.85490197, 0.85882354, 0.78431374, 0.8784314 , 0.79607844,\n",
       "        0.827451  , 0.8352941 , 0.8117647 , 0.8392157 , 0.9372549 ,\n",
       "        0.93333334, 0.84313726, 0.99607843, 0.00784314, 0.        ,\n",
       "        0.        , 0.        , 0.        ],\n",
       "       [0.        , 0.        , 0.        , 0.        , 0.        ,\n",
       "        0.        , 0.8352941 , 0.90588236, 0.9372549 , 0.48235294,\n",
       "        0.8901961 , 0.8117647 , 0.8       , 0.85882354, 0.7764706 ,\n",
       "        0.8392157 , 0.8235294 , 0.79607844, 0.9137255 , 0.5294118 ,\n",
       "        1.        , 0.85490197, 0.8745098 , 0.07058824, 0.        ,\n",
       "        0.        , 0.        , 0.        ],\n",
       "       [0.        , 0.        , 0.        , 0.        , 0.        ,\n",
       "        0.        , 0.88235295, 0.9098039 , 1.        , 0.4       ,\n",
       "        0.96862745, 0.8156863 , 0.8117647 , 0.84705883, 0.8       ,\n",
       "        0.8627451 , 0.8156863 , 0.827451  , 0.9647059 , 0.34117648,\n",
       "        1.        , 0.85882354, 0.8862745 , 0.11764706, 0.        ,\n",
       "        0.        , 0.        , 0.        ],\n",
       "       [0.        , 0.        , 0.        , 0.        , 0.        ,\n",
       "        0.08627451, 0.8980392 , 0.8980392 , 1.        , 0.3372549 ,\n",
       "        0.9764706 , 0.827451  , 0.84313726, 0.8627451 , 0.84705883,\n",
       "        0.8509804 , 0.85490197, 0.8117647 , 0.96862745, 0.3137255 ,\n",
       "        1.        , 0.87058824, 0.89411765, 0.20784314, 0.        ,\n",
       "        0.        , 0.        , 0.        ],\n",
       "       [0.        , 0.        , 0.        , 0.        , 0.        ,\n",
       "        0.18039216, 0.9019608 , 0.8901961 , 0.9372549 , 0.3529412 ,\n",
       "        0.99607843, 0.79607844, 0.8509804 , 0.8627451 , 0.8       ,\n",
       "        0.84705883, 0.85882354, 0.78431374, 1.        , 0.24705882,\n",
       "        0.9137255 , 0.8980392 , 0.91764706, 0.38039216, 0.        ,\n",
       "        0.        , 0.        , 0.        ],\n",
       "       [0.        , 0.        , 0.        , 0.        , 0.        ,\n",
       "        0.24705882, 0.9098039 , 0.8980392 , 0.83137256, 0.41960785,\n",
       "        0.99607843, 0.8156863 , 0.8666667 , 0.8784314 , 0.8156863 ,\n",
       "        0.85490197, 0.8745098 , 0.8784314 , 1.        , 0.30980393,\n",
       "        0.7882353 , 0.9098039 , 0.90588236, 0.49019608, 0.        ,\n",
       "        0.        , 0.        , 0.        ],\n",
       "       [0.        , 0.        , 0.        , 0.        , 0.        ,\n",
       "        0.27058825, 0.91764706, 0.9098039 , 0.8666667 , 0.7411765 ,\n",
       "        0.9254902 , 0.827451  , 0.8666667 , 0.8666667 , 0.8509804 ,\n",
       "        0.85490197, 0.8901961 , 0.6       , 0.87058824, 0.6117647 ,\n",
       "        0.78039217, 0.91764706, 0.90588236, 0.5176471 , 0.        ,\n",
       "        0.        , 0.        , 0.        ],\n",
       "       [0.        , 0.        , 0.        , 0.        , 0.        ,\n",
       "        0.34901962, 0.92156863, 0.9254902 , 0.83137256, 0.76862746,\n",
       "        0.89411765, 0.8       , 0.8862745 , 0.87058824, 0.827451  ,\n",
       "        0.85490197, 0.88235295, 0.6901961 , 0.92941177, 0.6117647 ,\n",
       "        0.6666667 , 0.9254902 , 0.90588236, 0.57254905, 0.        ,\n",
       "        0.        , 0.        , 0.        ],\n",
       "       [0.        , 0.        , 0.        , 0.        , 0.        ,\n",
       "        0.47058824, 0.93333334, 0.92941177, 0.79607844, 0.74509805,\n",
       "        0.9098039 , 0.81960785, 0.90588236, 0.8627451 , 0.83137256,\n",
       "        0.85882354, 0.8862745 , 0.87058824, 1.        , 0.5686275 ,\n",
       "        0.5411765 , 1.        , 0.9019608 , 0.6117647 , 0.        ,\n",
       "        0.        , 0.        , 0.        ],\n",
       "       [0.        , 0.        , 0.        , 0.        , 0.        ,\n",
       "        0.49019608, 0.9372549 , 0.94509804, 0.7137255 , 0.78039217,\n",
       "        0.91764706, 0.827451  , 0.87058824, 0.88235295, 0.8392157 ,\n",
       "        0.8627451 , 0.8784314 , 0.8235294 , 0.99607843, 0.5764706 ,\n",
       "        0.58431375, 0.9411765 , 0.9098039 , 0.61960787, 0.        ,\n",
       "        0.        , 0.        , 0.        ],\n",
       "       [0.        , 0.        , 0.        , 0.        , 0.        ,\n",
       "        0.50980395, 0.92156863, 0.9529412 , 0.54509807, 0.76862746,\n",
       "        0.93333334, 0.83137256, 0.85490197, 0.89411765, 0.8235294 ,\n",
       "        0.8509804 , 0.87058824, 0.83137256, 1.        , 0.5647059 ,\n",
       "        0.5764706 , 0.93333334, 0.90588236, 0.5803922 , 0.        ,\n",
       "        0.        , 0.        , 0.        ],\n",
       "       [0.        , 0.        , 0.        , 0.        , 0.        ,\n",
       "        0.64705884, 0.99215686, 1.        , 0.56078434, 0.7764706 ,\n",
       "        0.9372549 , 0.8352941 , 0.8666667 , 0.8901961 , 0.8666667 ,\n",
       "        0.88235295, 0.8784314 , 0.8352941 , 1.        , 0.5882353 ,\n",
       "        0.6156863 , 1.        , 0.972549  , 0.6431373 , 0.        ,\n",
       "        0.        , 0.        , 0.        ],\n",
       "       [0.        , 0.        , 0.        , 0.        , 0.        ,\n",
       "        0.0627451 , 0.6509804 , 0.73333335, 0.01568628, 0.88235295,\n",
       "        0.8980392 , 0.8352941 , 0.8745098 , 0.89411765, 0.8509804 ,\n",
       "        0.8745098 , 0.8784314 , 0.85882354, 0.9411765 , 0.72156864,\n",
       "        0.00784314, 0.7921569 , 0.84313726, 0.07058824, 0.        ,\n",
       "        0.        , 0.        , 0.        ],\n",
       "       [0.        , 0.        , 0.        , 0.        , 0.        ,\n",
       "        0.        , 0.        , 0.        , 0.        , 0.8862745 ,\n",
       "        0.9098039 , 0.84705883, 0.87058824, 0.8901961 , 0.8509804 ,\n",
       "        0.88235295, 0.8901961 , 0.8745098 , 0.94509804, 0.7294118 ,\n",
       "        0.        , 0.        , 0.        , 0.        , 0.        ,\n",
       "        0.        , 0.        , 0.        ],\n",
       "       [0.        , 0.        , 0.        , 0.        , 0.        ,\n",
       "        0.        , 0.00784314, 0.00392157, 0.        , 0.7764706 ,\n",
       "        0.92941177, 0.84705883, 0.88235295, 0.90588236, 0.8862745 ,\n",
       "        0.8862745 , 0.8980392 , 0.8745098 , 0.96862745, 0.49411765,\n",
       "        0.        , 0.01568628, 0.        , 0.        , 0.        ,\n",
       "        0.        , 0.        , 0.        ],\n",
       "       [0.        , 0.        , 0.        , 0.        , 0.        ,\n",
       "        0.        , 0.        , 0.00784314, 0.        , 0.54509807,\n",
       "        1.        , 0.9019608 , 0.9254902 , 0.95686275, 0.93333334,\n",
       "        0.9490196 , 0.9137255 , 0.9137255 , 1.        , 0.23921569,\n",
       "        0.        , 0.01568628, 0.        , 0.        , 0.        ,\n",
       "        0.        , 0.        , 0.        ],\n",
       "       [0.        , 0.        , 0.        , 0.        , 0.        ,\n",
       "        0.        , 0.        , 0.        , 0.        , 0.        ,\n",
       "        0.5686275 , 0.7372549 , 0.74509805, 0.79607844, 0.7137255 ,\n",
       "        0.7294118 , 0.74509805, 0.7647059 , 0.44705883, 0.        ,\n",
       "        0.        , 0.        , 0.        , 0.        , 0.        ,\n",
       "        0.        , 0.        , 0.        ]], dtype=float32)"
      ]
     },
     "execution_count": 30,
     "metadata": {},
     "output_type": "execute_result"
    }
   ],
   "source": [
    "images[0].squeeze().numpy()"
   ]
  },
  {
   "cell_type": "code",
   "execution_count": 31,
   "metadata": {},
   "outputs": [
    {
     "data": {
      "text/plain": [
       "(28, 28)"
      ]
     },
     "execution_count": 31,
     "metadata": {},
     "output_type": "execute_result"
    }
   ],
   "source": [
    "images[0].squeeze().numpy().shape"
   ]
  },
  {
   "cell_type": "code",
   "execution_count": 32,
   "metadata": {},
   "outputs": [
    {
     "name": "stdout",
     "output_type": "stream",
     "text": [
      "torch.Size([1, 28, 28])\n",
      "torch.Size([28, 28])\n",
      "torch.Size([1, 1, 28, 28])\n"
     ]
    }
   ],
   "source": [
    "print(images[0].shape)\n",
    "print(images[0].squeeze().shape)\n",
    "print(images[0].unsqueeze(dim = 1).shape)"
   ]
  },
  {
   "cell_type": "code",
   "execution_count": 33,
   "metadata": {},
   "outputs": [],
   "source": [
    "class CNN(nn.Module):\n",
    "    def __init__(self, in_, out_):\n",
    "        super(CNN, self).__init__()\n",
    "        \n",
    "        pass\n",
    "    \n",
    "    def forward(self, x):\n",
    "        pass"
   ]
  },
  {
   "cell_type": "code",
   "execution_count": 34,
   "metadata": {},
   "outputs": [],
   "source": [
    "class CNN(nn.Module):\n",
    "    def __init__(self, in_, out_):\n",
    "        super(CNN, self).__init__()\n",
    "        \n",
    "        self.conv_pool_01 = nn.Sequential(\n",
    "                                nn.Conv2d(in_channels = in_, out_channels = 8, kernel_size = 5, stride = 1,padding  = 0),\n",
    "                                nn.ReLU(),\n",
    "                                nn.MaxPool2d(kernel_size = 2, stride = 2)\n",
    "        )\n",
    "        \n",
    "        self.conv_pool_02 = nn.Sequential(\n",
    "                                nn.Conv2d(in_channels = 8, out_channels = 16, kernel_size = 5, stride = 1,padding  = 0),\n",
    "                                nn.ReLU(),\n",
    "                                nn.MaxPool2d(kernel_size = 2, stride = 2)\n",
    "        )\n",
    "        \n",
    "        self.Flatten = nn.Flatten()\n",
    "        self.FC_01 = nn.Linear(in_features = 16*4*4, out_features = 128)\n",
    "        self.FC_02 = nn.Linear(in_features = 128, out_features = 64)\n",
    "        self.FC_03 = nn.Linear(in_features = 64, out_features = out_)\n",
    "        \n",
    "    \n",
    "    def forward(self, x):\n",
    "        x = self.conv_pool_01(x)\n",
    "        x = self.conv_pool_02(x)\n",
    "        x = self.Flatten(x)\n",
    "        x = F.relu(self.FC_01(x))\n",
    "        x = F.relu(self.FC_02(x))\n",
    "        x = F.relu(self.FC_03(x))"
   ]
  },
  {
   "cell_type": "code",
   "execution_count": 35,
   "metadata": {},
   "outputs": [
    {
     "name": "stdout",
     "output_type": "stream",
     "text": [
      "CNN(\n",
      "  (conv_pool_01): Sequential(\n",
      "    (0): Conv2d(1, 8, kernel_size=(5, 5), stride=(1, 1))\n",
      "    (1): ReLU()\n",
      "    (2): MaxPool2d(kernel_size=2, stride=2, padding=0, dilation=1, ceil_mode=False)\n",
      "  )\n",
      "  (conv_pool_02): Sequential(\n",
      "    (0): Conv2d(8, 16, kernel_size=(5, 5), stride=(1, 1))\n",
      "    (1): ReLU()\n",
      "    (2): MaxPool2d(kernel_size=2, stride=2, padding=0, dilation=1, ceil_mode=False)\n",
      "  )\n",
      "  (Flatten): Flatten(start_dim=1, end_dim=-1)\n",
      "  (FC_01): Linear(in_features=256, out_features=128, bias=True)\n",
      "  (FC_02): Linear(in_features=128, out_features=64, bias=True)\n",
      "  (FC_03): Linear(in_features=64, out_features=10, bias=True)\n",
      ")\n"
     ]
    }
   ],
   "source": [
    "model = CNN(1, 10)\n",
    "\n",
    "print(model)"
   ]
  },
  {
   "cell_type": "code",
   "execution_count": 36,
   "metadata": {
    "scrolled": true
   },
   "outputs": [
    {
     "data": {
      "text/plain": [
       "Sequential(\n",
       "  (0): Conv2d(8, 16, kernel_size=(5, 5), stride=(1, 1))\n",
       "  (1): ReLU()\n",
       "  (2): MaxPool2d(kernel_size=2, stride=2, padding=0, dilation=1, ceil_mode=False)\n",
       ")"
      ]
     },
     "execution_count": 36,
     "metadata": {},
     "output_type": "execute_result"
    }
   ],
   "source": [
    "model.conv_pool_02"
   ]
  },
  {
   "cell_type": "code",
   "execution_count": 37,
   "metadata": {},
   "outputs": [
    {
     "data": {
      "text/plain": [
       "<generator object Module.parameters at 0x00000206D879D3C8>"
      ]
     },
     "execution_count": 37,
     "metadata": {},
     "output_type": "execute_result"
    }
   ],
   "source": [
    "model.parameters()"
   ]
  },
  {
   "cell_type": "code",
   "execution_count": 38,
   "metadata": {},
   "outputs": [
    {
     "data": {
      "text/plain": [
       "False"
      ]
     },
     "execution_count": 38,
     "metadata": {},
     "output_type": "execute_result"
    }
   ],
   "source": [
    "next(model.parameters()).is_cuda"
   ]
  },
  {
   "cell_type": "code",
   "execution_count": 39,
   "metadata": {},
   "outputs": [
    {
     "data": {
      "text/plain": [
       "CNN(\n",
       "  (conv_pool_01): Sequential(\n",
       "    (0): Conv2d(1, 8, kernel_size=(5, 5), stride=(1, 1))\n",
       "    (1): ReLU()\n",
       "    (2): MaxPool2d(kernel_size=2, stride=2, padding=0, dilation=1, ceil_mode=False)\n",
       "  )\n",
       "  (conv_pool_02): Sequential(\n",
       "    (0): Conv2d(8, 16, kernel_size=(5, 5), stride=(1, 1))\n",
       "    (1): ReLU()\n",
       "    (2): MaxPool2d(kernel_size=2, stride=2, padding=0, dilation=1, ceil_mode=False)\n",
       "  )\n",
       "  (Flatten): Flatten(start_dim=1, end_dim=-1)\n",
       "  (FC_01): Linear(in_features=256, out_features=128, bias=True)\n",
       "  (FC_02): Linear(in_features=128, out_features=64, bias=True)\n",
       "  (FC_03): Linear(in_features=64, out_features=10, bias=True)\n",
       ")"
      ]
     },
     "execution_count": 39,
     "metadata": {},
     "output_type": "execute_result"
    }
   ],
   "source": [
    "model.to(config.DEVICE)# this won't work for my system as I dont have GPU"
   ]
  },
  {
   "cell_type": "code",
   "execution_count": 40,
   "metadata": {
    "scrolled": true
   },
   "outputs": [
    {
     "data": {
      "text/plain": [
       "False"
      ]
     },
     "execution_count": 40,
     "metadata": {},
     "output_type": "execute_result"
    }
   ],
   "source": [
    "next(model.parameters()).is_cuda # this won't work for my system as I dont have GPU"
   ]
  },
  {
   "cell_type": "markdown",
   "metadata": {},
   "source": [
    "# Count the number of Trainable parameters"
   ]
  },
  {
   "cell_type": "code",
   "execution_count": 41,
   "metadata": {},
   "outputs": [
    {
     "data": {
      "text/plain": [
       "<generator object Module.named_parameters at 0x00000206D879D948>"
      ]
     },
     "execution_count": 41,
     "metadata": {},
     "output_type": "execute_result"
    }
   ],
   "source": [
    "model.named_parameters()"
   ]
  },
  {
   "cell_type": "code",
   "execution_count": 42,
   "metadata": {},
   "outputs": [],
   "source": [
    "def count_params(model):\n",
    "    model_params = {'Modules': list(), 'Parameters': list()}\n",
    "    total = {'trainable':0, 'non_trainable':0}\n",
    "\n",
    "    for name,parameters in model.named_parameters():\n",
    "        param = parameters.numel()\n",
    "        \n",
    "        if not parameters.requires_grad:\n",
    "            total['non_trainable'] += param\n",
    "            continue\n",
    "\n",
    "        model_params['Modules'].append(name)\n",
    "        model_params['Parameters'].append(param)\n",
    "        total['trainable'] += param\n",
    "\n",
    "    df = pd.DataFrame(model_params)\n",
    "    df = df.style.set_caption(f'Total parameters: {total}')\n",
    "    return df"
   ]
  },
  {
   "cell_type": "code",
   "execution_count": 43,
   "metadata": {
    "scrolled": false
   },
   "outputs": [
    {
     "data": {
      "text/html": [
       "<style type=\"text/css\">\n",
       "</style>\n",
       "<table id=\"T_801a9_\">\n",
       "  <caption>Total parameters: {'trainable': 45226, 'non_trainable': 0}</caption>\n",
       "  <thead>\n",
       "    <tr>\n",
       "      <th class=\"blank level0\" >&nbsp;</th>\n",
       "      <th class=\"col_heading level0 col0\" >Modules</th>\n",
       "      <th class=\"col_heading level0 col1\" >Parameters</th>\n",
       "    </tr>\n",
       "  </thead>\n",
       "  <tbody>\n",
       "    <tr>\n",
       "      <th id=\"T_801a9_level0_row0\" class=\"row_heading level0 row0\" >0</th>\n",
       "      <td id=\"T_801a9_row0_col0\" class=\"data row0 col0\" >conv_pool_01.0.weight</td>\n",
       "      <td id=\"T_801a9_row0_col1\" class=\"data row0 col1\" >200</td>\n",
       "    </tr>\n",
       "    <tr>\n",
       "      <th id=\"T_801a9_level0_row1\" class=\"row_heading level0 row1\" >1</th>\n",
       "      <td id=\"T_801a9_row1_col0\" class=\"data row1 col0\" >conv_pool_01.0.bias</td>\n",
       "      <td id=\"T_801a9_row1_col1\" class=\"data row1 col1\" >8</td>\n",
       "    </tr>\n",
       "    <tr>\n",
       "      <th id=\"T_801a9_level0_row2\" class=\"row_heading level0 row2\" >2</th>\n",
       "      <td id=\"T_801a9_row2_col0\" class=\"data row2 col0\" >conv_pool_02.0.weight</td>\n",
       "      <td id=\"T_801a9_row2_col1\" class=\"data row2 col1\" >3200</td>\n",
       "    </tr>\n",
       "    <tr>\n",
       "      <th id=\"T_801a9_level0_row3\" class=\"row_heading level0 row3\" >3</th>\n",
       "      <td id=\"T_801a9_row3_col0\" class=\"data row3 col0\" >conv_pool_02.0.bias</td>\n",
       "      <td id=\"T_801a9_row3_col1\" class=\"data row3 col1\" >16</td>\n",
       "    </tr>\n",
       "    <tr>\n",
       "      <th id=\"T_801a9_level0_row4\" class=\"row_heading level0 row4\" >4</th>\n",
       "      <td id=\"T_801a9_row4_col0\" class=\"data row4 col0\" >FC_01.weight</td>\n",
       "      <td id=\"T_801a9_row4_col1\" class=\"data row4 col1\" >32768</td>\n",
       "    </tr>\n",
       "    <tr>\n",
       "      <th id=\"T_801a9_level0_row5\" class=\"row_heading level0 row5\" >5</th>\n",
       "      <td id=\"T_801a9_row5_col0\" class=\"data row5 col0\" >FC_01.bias</td>\n",
       "      <td id=\"T_801a9_row5_col1\" class=\"data row5 col1\" >128</td>\n",
       "    </tr>\n",
       "    <tr>\n",
       "      <th id=\"T_801a9_level0_row6\" class=\"row_heading level0 row6\" >6</th>\n",
       "      <td id=\"T_801a9_row6_col0\" class=\"data row6 col0\" >FC_02.weight</td>\n",
       "      <td id=\"T_801a9_row6_col1\" class=\"data row6 col1\" >8192</td>\n",
       "    </tr>\n",
       "    <tr>\n",
       "      <th id=\"T_801a9_level0_row7\" class=\"row_heading level0 row7\" >7</th>\n",
       "      <td id=\"T_801a9_row7_col0\" class=\"data row7 col0\" >FC_02.bias</td>\n",
       "      <td id=\"T_801a9_row7_col1\" class=\"data row7 col1\" >64</td>\n",
       "    </tr>\n",
       "    <tr>\n",
       "      <th id=\"T_801a9_level0_row8\" class=\"row_heading level0 row8\" >8</th>\n",
       "      <td id=\"T_801a9_row8_col0\" class=\"data row8 col0\" >FC_03.weight</td>\n",
       "      <td id=\"T_801a9_row8_col1\" class=\"data row8 col1\" >640</td>\n",
       "    </tr>\n",
       "    <tr>\n",
       "      <th id=\"T_801a9_level0_row9\" class=\"row_heading level0 row9\" >9</th>\n",
       "      <td id=\"T_801a9_row9_col0\" class=\"data row9 col0\" >FC_03.bias</td>\n",
       "      <td id=\"T_801a9_row9_col1\" class=\"data row9 col1\" >10</td>\n",
       "    </tr>\n",
       "  </tbody>\n",
       "</table>\n"
      ],
      "text/plain": [
       "<pandas.io.formats.style.Styler at 0x206d879cd48>"
      ]
     },
     "execution_count": 43,
     "metadata": {},
     "output_type": "execute_result"
    }
   ],
   "source": [
    "count_params(model)"
   ]
  },
  {
   "cell_type": "markdown",
   "metadata": {},
   "source": [
    "# Training loop"
   ]
  },
  {
   "cell_type": "code",
   "execution_count": 44,
   "metadata": {},
   "outputs": [
    {
     "data": {
      "text/plain": [
       "1875.0"
      ]
     },
     "execution_count": 44,
     "metadata": {},
     "output_type": "execute_result"
    }
   ],
   "source": [
    "# traning samples - 60k\n",
    "# batch size - 32\n",
    "60000/32 # steps per epcoh"
   ]
  },
  {
   "cell_type": "code",
   "execution_count": 49,
   "metadata": {},
   "outputs": [
    {
     "data": {
      "text/plain": [
       "1875"
      ]
     },
     "execution_count": 49,
     "metadata": {},
     "output_type": "execute_result"
    }
   ],
   "source": [
    "len(train_data_loader)"
   ]
  },
  {
   "cell_type": "code",
   "execution_count": 64,
   "metadata": {},
   "outputs": [
    {
     "data": {
      "text/plain": [
       "<bound method Module.parameters of CNN(\n",
       "  (conv_pool_01): Sequential(\n",
       "    (0): Conv2d(1, 8, kernel_size=(5, 5), stride=(1, 1))\n",
       "    (1): ReLU()\n",
       "    (2): MaxPool2d(kernel_size=2, stride=2, padding=0, dilation=1, ceil_mode=False)\n",
       "  )\n",
       "  (conv_pool_02): Sequential(\n",
       "    (0): Conv2d(8, 16, kernel_size=(5, 5), stride=(1, 1))\n",
       "    (1): ReLU()\n",
       "    (2): MaxPool2d(kernel_size=2, stride=2, padding=0, dilation=1, ceil_mode=False)\n",
       "  )\n",
       "  (Flatten): Flatten(start_dim=1, end_dim=-1)\n",
       "  (FC_01): Linear(in_features=256, out_features=128, bias=True)\n",
       "  (FC_02): Linear(in_features=128, out_features=64, bias=True)\n",
       "  (FC_03): Linear(in_features=64, out_features=10, bias=True)\n",
       ")>"
      ]
     },
     "execution_count": 64,
     "metadata": {},
     "output_type": "execute_result"
    }
   ],
   "source": [
    "model.parameters"
   ]
  },
  {
   "cell_type": "code",
   "execution_count": 66,
   "metadata": {},
   "outputs": [],
   "source": [
    "criterion = nn.CrossEntropyLoss() # loss function\n",
    "optimizer = torch.optim.Adam(model.parameters(), lr = config.LEARNING_RATE)"
   ]
  },
  {
   "cell_type": "code",
   "execution_count": 61,
   "metadata": {},
   "outputs": [
    {
     "data": {
      "text/plain": [
       "CrossEntropyLoss()"
      ]
     },
     "execution_count": 61,
     "metadata": {},
     "output_type": "execute_result"
    }
   ],
   "source": [
    "criterion"
   ]
  },
  {
   "cell_type": "code",
   "execution_count": 60,
   "metadata": {
    "scrolled": true
   },
   "outputs": [
    {
     "data": {
      "text/plain": [
       "Adam (\n",
       "Parameter Group 0\n",
       "    amsgrad: False\n",
       "    betas: (0.9, 0.999)\n",
       "    eps: 1e-08\n",
       "    lr: 0.01\n",
       "    maximize: False\n",
       "    weight_decay: 0\n",
       ")"
      ]
     },
     "execution_count": 60,
     "metadata": {},
     "output_type": "execute_result"
    }
   ],
   "source": [
    "optimizer"
   ]
  },
  {
   "cell_type": "code",
   "execution_count": 74,
   "metadata": {
    "scrolled": true
   },
   "outputs": [
    {
     "name": "stderr",
     "output_type": "stream",
     "text": [
      "Epoch 1/10:   0%|                                     | 0/1875 [00:00<?, ?it/s]\n"
     ]
    },
    {
     "ename": "TypeError",
     "evalue": "cross_entropy_loss(): argument 'input' (position 1) must be Tensor, not NoneType",
     "output_type": "error",
     "traceback": [
      "\u001b[1;31m---------------------------------------------------------------------------\u001b[0m",
      "\u001b[1;31mTypeError\u001b[0m                                 Traceback (most recent call last)",
      "\u001b[1;32m~\\AppData\\Local\\Temp\\ipykernel_1368\\975734269.py\u001b[0m in \u001b[0;36m<module>\u001b[1;34m\u001b[0m\n\u001b[0;32m     10\u001b[0m             \u001b[1;31m# forward pass\u001b[0m\u001b[1;33m\u001b[0m\u001b[1;33m\u001b[0m\u001b[1;33m\u001b[0m\u001b[0m\n\u001b[0;32m     11\u001b[0m             \u001b[0moutputs\u001b[0m \u001b[1;33m=\u001b[0m \u001b[0mmodel\u001b[0m\u001b[1;33m(\u001b[0m\u001b[0mimages\u001b[0m\u001b[1;33m)\u001b[0m\u001b[1;33m\u001b[0m\u001b[1;33m\u001b[0m\u001b[0m\n\u001b[1;32m---> 12\u001b[1;33m             \u001b[0mloss\u001b[0m \u001b[1;33m=\u001b[0m \u001b[0mcriterion\u001b[0m\u001b[1;33m(\u001b[0m\u001b[0moutputs\u001b[0m\u001b[1;33m,\u001b[0m \u001b[0mlabels\u001b[0m\u001b[1;33m)\u001b[0m \u001b[1;31m# passing the pred  and target\u001b[0m\u001b[1;33m\u001b[0m\u001b[1;33m\u001b[0m\u001b[0m\n\u001b[0m\u001b[0;32m     13\u001b[0m \u001b[1;33m\u001b[0m\u001b[0m\n\u001b[0;32m     14\u001b[0m             \u001b[1;31m# backward propogation\u001b[0m\u001b[1;33m\u001b[0m\u001b[1;33m\u001b[0m\u001b[1;33m\u001b[0m\u001b[0m\n",
      "\u001b[1;32m~\\Downloads\\Ineuron\\deep_learning_project\\CNN_Pytorch_implementation_13_MARCH\\Pytorch-CNN\\env\\lib\\site-packages\\torch\\nn\\modules\\module.py\u001b[0m in \u001b[0;36m_call_impl\u001b[1;34m(self, *input, **kwargs)\u001b[0m\n\u001b[0;32m   1108\u001b[0m         if not (self._backward_hooks or self._forward_hooks or self._forward_pre_hooks or _global_backward_hooks\n\u001b[0;32m   1109\u001b[0m                 or _global_forward_hooks or _global_forward_pre_hooks):\n\u001b[1;32m-> 1110\u001b[1;33m             \u001b[1;32mreturn\u001b[0m \u001b[0mforward_call\u001b[0m\u001b[1;33m(\u001b[0m\u001b[1;33m*\u001b[0m\u001b[0minput\u001b[0m\u001b[1;33m,\u001b[0m \u001b[1;33m**\u001b[0m\u001b[0mkwargs\u001b[0m\u001b[1;33m)\u001b[0m\u001b[1;33m\u001b[0m\u001b[1;33m\u001b[0m\u001b[0m\n\u001b[0m\u001b[0;32m   1111\u001b[0m         \u001b[1;31m# Do not call functions when jit is used\u001b[0m\u001b[1;33m\u001b[0m\u001b[1;33m\u001b[0m\u001b[1;33m\u001b[0m\u001b[0m\n\u001b[0;32m   1112\u001b[0m         \u001b[0mfull_backward_hooks\u001b[0m\u001b[1;33m,\u001b[0m \u001b[0mnon_full_backward_hooks\u001b[0m \u001b[1;33m=\u001b[0m \u001b[1;33m[\u001b[0m\u001b[1;33m]\u001b[0m\u001b[1;33m,\u001b[0m \u001b[1;33m[\u001b[0m\u001b[1;33m]\u001b[0m\u001b[1;33m\u001b[0m\u001b[1;33m\u001b[0m\u001b[0m\n",
      "\u001b[1;32m~\\Downloads\\Ineuron\\deep_learning_project\\CNN_Pytorch_implementation_13_MARCH\\Pytorch-CNN\\env\\lib\\site-packages\\torch\\nn\\modules\\loss.py\u001b[0m in \u001b[0;36mforward\u001b[1;34m(self, input, target)\u001b[0m\n\u001b[0;32m   1163\u001b[0m         return F.cross_entropy(input, target, weight=self.weight,\n\u001b[0;32m   1164\u001b[0m                                \u001b[0mignore_index\u001b[0m\u001b[1;33m=\u001b[0m\u001b[0mself\u001b[0m\u001b[1;33m.\u001b[0m\u001b[0mignore_index\u001b[0m\u001b[1;33m,\u001b[0m \u001b[0mreduction\u001b[0m\u001b[1;33m=\u001b[0m\u001b[0mself\u001b[0m\u001b[1;33m.\u001b[0m\u001b[0mreduction\u001b[0m\u001b[1;33m,\u001b[0m\u001b[1;33m\u001b[0m\u001b[1;33m\u001b[0m\u001b[0m\n\u001b[1;32m-> 1165\u001b[1;33m                                label_smoothing=self.label_smoothing)\n\u001b[0m\u001b[0;32m   1166\u001b[0m \u001b[1;33m\u001b[0m\u001b[0m\n\u001b[0;32m   1167\u001b[0m \u001b[1;33m\u001b[0m\u001b[0m\n",
      "\u001b[1;32m~\\Downloads\\Ineuron\\deep_learning_project\\CNN_Pytorch_implementation_13_MARCH\\Pytorch-CNN\\env\\lib\\site-packages\\torch\\nn\\functional.py\u001b[0m in \u001b[0;36mcross_entropy\u001b[1;34m(input, target, weight, size_average, ignore_index, reduce, reduction, label_smoothing)\u001b[0m\n\u001b[0;32m   2994\u001b[0m     \u001b[1;32mif\u001b[0m \u001b[0msize_average\u001b[0m \u001b[1;32mis\u001b[0m \u001b[1;32mnot\u001b[0m \u001b[1;32mNone\u001b[0m \u001b[1;32mor\u001b[0m \u001b[0mreduce\u001b[0m \u001b[1;32mis\u001b[0m \u001b[1;32mnot\u001b[0m \u001b[1;32mNone\u001b[0m\u001b[1;33m:\u001b[0m\u001b[1;33m\u001b[0m\u001b[1;33m\u001b[0m\u001b[0m\n\u001b[0;32m   2995\u001b[0m         \u001b[0mreduction\u001b[0m \u001b[1;33m=\u001b[0m \u001b[0m_Reduction\u001b[0m\u001b[1;33m.\u001b[0m\u001b[0mlegacy_get_string\u001b[0m\u001b[1;33m(\u001b[0m\u001b[0msize_average\u001b[0m\u001b[1;33m,\u001b[0m \u001b[0mreduce\u001b[0m\u001b[1;33m)\u001b[0m\u001b[1;33m\u001b[0m\u001b[1;33m\u001b[0m\u001b[0m\n\u001b[1;32m-> 2996\u001b[1;33m     \u001b[1;32mreturn\u001b[0m \u001b[0mtorch\u001b[0m\u001b[1;33m.\u001b[0m\u001b[0m_C\u001b[0m\u001b[1;33m.\u001b[0m\u001b[0m_nn\u001b[0m\u001b[1;33m.\u001b[0m\u001b[0mcross_entropy_loss\u001b[0m\u001b[1;33m(\u001b[0m\u001b[0minput\u001b[0m\u001b[1;33m,\u001b[0m \u001b[0mtarget\u001b[0m\u001b[1;33m,\u001b[0m \u001b[0mweight\u001b[0m\u001b[1;33m,\u001b[0m \u001b[0m_Reduction\u001b[0m\u001b[1;33m.\u001b[0m\u001b[0mget_enum\u001b[0m\u001b[1;33m(\u001b[0m\u001b[0mreduction\u001b[0m\u001b[1;33m)\u001b[0m\u001b[1;33m,\u001b[0m \u001b[0mignore_index\u001b[0m\u001b[1;33m,\u001b[0m \u001b[0mlabel_smoothing\u001b[0m\u001b[1;33m)\u001b[0m\u001b[1;33m\u001b[0m\u001b[1;33m\u001b[0m\u001b[0m\n\u001b[0m\u001b[0;32m   2997\u001b[0m \u001b[1;33m\u001b[0m\u001b[0m\n\u001b[0;32m   2998\u001b[0m \u001b[1;33m\u001b[0m\u001b[0m\n",
      "\u001b[1;31mTypeError\u001b[0m: cross_entropy_loss(): argument 'input' (position 1) must be Tensor, not NoneType"
     ]
    }
   ],
   "source": [
    "for epoch in range(config.EPOCH):\n",
    "    with tqdm(train_data_loader) as tqdm_epoch:\n",
    "        for images, labels in tqdm_epoch:\n",
    "            tqdm_epoch.set_description(f'Epoch {epoch+1}/{config.EPOCH}')\n",
    "            \n",
    "            # put images on CUDA device\n",
    "            images = images.to(config.DEVICE)\n",
    "            labels = labels.to(config.DEVICE)\n",
    "            \n",
    "            # forward pass\n",
    "            outputs = model(images)\n",
    "            loss = criterion(outputs, labels) # passing the pred  and target\n",
    "            \n",
    "            # backward propogation\n",
    "            optimizer.zero_grad() # zero the past gradient (if any)\n",
    "            loss.backward() # calculate the gradients\n",
    "            optimizer.step() # weights update rule\n",
    "            \n",
    "            \n",
    "            tqdm_epoch.set_postfix(loss=loss.item())"
   ]
  }
 ],
 "metadata": {
  "kernelspec": {
   "display_name": "Python 3 (ipykernel)",
   "language": "python",
   "name": "python3"
  },
  "language_info": {
   "codemirror_mode": {
    "name": "ipython",
    "version": 3
   },
   "file_extension": ".py",
   "mimetype": "text/x-python",
   "name": "python",
   "nbconvert_exporter": "python",
   "pygments_lexer": "ipython3",
   "version": "3.7.11"
  }
 },
 "nbformat": 4,
 "nbformat_minor": 4
}
