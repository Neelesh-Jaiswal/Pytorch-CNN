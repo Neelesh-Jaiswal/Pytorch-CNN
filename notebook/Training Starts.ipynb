{
 "cells": [
  {
   "cell_type": "code",
   "execution_count": 1,
   "metadata": {},
   "outputs": [
    {
     "name": "stderr",
     "output_type": "stream",
     "text": [
      "C:\\Users\\Lenovo\\Downloads\\Ineuron\\deep_learning_project\\CNN_Pytorch_implementation_13_MARCH\\Pytorch-CNN\\env\\lib\\site-packages\\tqdm\\auto.py:22: TqdmWarning: IProgress not found. Please update jupyter and ipywidgets. See https://ipywidgets.readthedocs.io/en/stable/user_install.html\n",
      "  from .autonotebook import tqdm as notebook_tqdm\n"
     ]
    }
   ],
   "source": [
    "import os\n",
    "import numpy as np\n",
    "import matplotlib.pyplot as plt\n",
    "import seaborn as sns\n",
    "import pandas as pd\n",
    "import torch\n",
    "import torch.nn as nn\n",
    "from torch.utils.data import DataLoader\n",
    "from torchvision import transforms, datasets\n",
    "import torch.nn.functional as F\n",
    "from sklearn.metrics import confusion_matrix\n",
    "from tqdm import tqdm"
   ]
  },
  {
   "cell_type": "code",
   "execution_count": 2,
   "metadata": {},
   "outputs": [
    {
     "name": "stdout",
     "output_type": "stream",
     "text": [
      "this notebook is using device: cpu\n"
     ]
    }
   ],
   "source": [
    "class Config:\n",
    "  def __init__(self):\n",
    "    self.ROOT_DATA_DIR = \"FashionMNISTDir\"\n",
    "    self.EPOCH = 10\n",
    "    self.BATCH_SIZE = 32\n",
    "    self.LEARNING_RATE = 0.01\n",
    "    self.IMAGE_SIZE = (28, 28)\n",
    "    self.DEVICE = \"cuda\" if torch.cuda.is_available() else \"cpu\"\n",
    "    print(f\"this notebook is using device: {self.DEVICE}\")\n",
    "    self.SEED = 2022\n",
    "\n",
    "config = Config()"
   ]
  },
  {
   "cell_type": "code",
   "execution_count": 3,
   "metadata": {},
   "outputs": [],
   "source": [
    "train_data = datasets.FashionMNIST(\n",
    "    root = config.ROOT_DATA_DIR,\n",
    "    train = True,\n",
    "    download = True,\n",
    "    transform = transforms.ToTensor()\n",
    ")\n",
    "\n",
    "test_data = datasets.FashionMNIST(\n",
    "    root = config.ROOT_DATA_DIR,\n",
    "    train = False,\n",
    "    download = True,\n",
    "    transform = transforms.ToTensor()\n",
    ")"
   ]
  },
  {
   "cell_type": "code",
   "execution_count": 4,
   "metadata": {},
   "outputs": [
    {
     "data": {
      "text/plain": [
       "{'T-shirt/top': 0,\n",
       " 'Trouser': 1,\n",
       " 'Pullover': 2,\n",
       " 'Dress': 3,\n",
       " 'Coat': 4,\n",
       " 'Sandal': 5,\n",
       " 'Shirt': 6,\n",
       " 'Sneaker': 7,\n",
       " 'Bag': 8,\n",
       " 'Ankle boot': 9}"
      ]
     },
     "execution_count": 4,
     "metadata": {},
     "output_type": "execute_result"
    }
   ],
   "source": [
    "given_label_map = train_data.class_to_idx\n",
    "given_label_map"
   ]
  },
  {
   "cell_type": "code",
   "execution_count": 5,
   "metadata": {},
   "outputs": [
    {
     "data": {
      "text/plain": [
       "{0: 'T-shirt/top',\n",
       " 1: 'Trouser',\n",
       " 2: 'Pullover',\n",
       " 3: 'Dress',\n",
       " 4: 'Coat',\n",
       " 5: 'Sandal',\n",
       " 6: 'Shirt',\n",
       " 7: 'Sneaker',\n",
       " 8: 'Bag',\n",
       " 9: 'Ankle boot'}"
      ]
     },
     "execution_count": 5,
     "metadata": {},
     "output_type": "execute_result"
    }
   ],
   "source": [
    "label_map = {val: key for key, val in given_label_map.items()}\n",
    "label_map"
   ]
  },
  {
   "cell_type": "code",
   "execution_count": 6,
   "metadata": {},
   "outputs": [],
   "source": [
    "train_data_loader = DataLoader(\n",
    "    dataset = train_data,\n",
    "    batch_size = config.BATCH_SIZE,\n",
    "    shuffle = True\n",
    ")\n",
    "\n",
    "test_data_loader = DataLoader(\n",
    "    dataset = test_data,\n",
    "    batch_size = config.BATCH_SIZE,\n",
    "    shuffle = False\n",
    ")"
   ]
  },
  {
   "cell_type": "code",
   "execution_count": 7,
   "metadata": {},
   "outputs": [
    {
     "name": "stdout",
     "output_type": "stream",
     "text": [
      "torch.Size([32, 1, 28, 28])\n",
      "torch.Size([32])\n"
     ]
    }
   ],
   "source": [
    "for images, labels in train_data_loader:\n",
    "  print(images.shape)\n",
    "  print(labels.shape)\n",
    "  break"
   ]
  },
  {
   "cell_type": "code",
   "execution_count": 8,
   "metadata": {},
   "outputs": [],
   "source": [
    "class CNN(nn.Module):\n",
    "  def __init__(self, in_, out_):\n",
    "    super(CNN, self).__init__()\n",
    "\n",
    "    self.conv_pool_01 = nn.Sequential(\n",
    "        nn.Conv2d(in_channels=in_, out_channels=8, kernel_size=5, stride=1, padding=0),\n",
    "        nn.ReLU(),\n",
    "        nn.MaxPool2d(kernel_size=2, stride=2)\n",
    "    )\n",
    "\n",
    "    self.conv_pool_02 = nn.Sequential(\n",
    "        nn.Conv2d(in_channels=8, out_channels=16, kernel_size=5, stride=1, padding=0),\n",
    "        nn.ReLU(),\n",
    "        nn.MaxPool2d(kernel_size=2, stride=2)\n",
    "    )\n",
    "\n",
    "    self.Flatten = nn.Flatten()\n",
    "    self.FC_01 = nn.Linear(in_features=16*4*4, out_features=128)\n",
    "    self.FC_02 = nn.Linear(in_features=128, out_features=64)\n",
    "    self.FC_03 = nn.Linear(in_features=64, out_features=out_)\n",
    "\n",
    "  def forward(self, x):\n",
    "    x = self.conv_pool_01(x)\n",
    "    x = self.conv_pool_02(x)\n",
    "    x = self.Flatten(x)\n",
    "    x = self.FC_01(x)\n",
    "    x = F.relu(x)\n",
    "    x = self.FC_02(x)\n",
    "    x = F.relu(x)    \n",
    "    x = self.FC_03(x)\n",
    "    return x"
   ]
  },
  {
   "cell_type": "code",
   "execution_count": 9,
   "metadata": {
    "scrolled": false
   },
   "outputs": [
    {
     "name": "stdout",
     "output_type": "stream",
     "text": [
      "CNN(\n",
      "  (conv_pool_01): Sequential(\n",
      "    (0): Conv2d(1, 8, kernel_size=(5, 5), stride=(1, 1))\n",
      "    (1): ReLU()\n",
      "    (2): MaxPool2d(kernel_size=2, stride=2, padding=0, dilation=1, ceil_mode=False)\n",
      "  )\n",
      "  (conv_pool_02): Sequential(\n",
      "    (0): Conv2d(8, 16, kernel_size=(5, 5), stride=(1, 1))\n",
      "    (1): ReLU()\n",
      "    (2): MaxPool2d(kernel_size=2, stride=2, padding=0, dilation=1, ceil_mode=False)\n",
      "  )\n",
      "  (Flatten): Flatten(start_dim=1, end_dim=-1)\n",
      "  (FC_01): Linear(in_features=256, out_features=128, bias=True)\n",
      "  (FC_02): Linear(in_features=128, out_features=64, bias=True)\n",
      "  (FC_03): Linear(in_features=64, out_features=10, bias=True)\n",
      ")\n"
     ]
    }
   ],
   "source": [
    "model = CNN(1, 10)\n",
    "\n",
    "print(model)"
   ]
  },
  {
   "cell_type": "code",
   "execution_count": 10,
   "metadata": {
    "scrolled": false
   },
   "outputs": [
    {
     "data": {
      "text/html": [
       "<style type=\"text/css\">\n",
       "</style>\n",
       "<table id=\"T_b094b_\">\n",
       "  <caption>Total parameters: {'trainable': 45226, 'non_trainable': 0}</caption>\n",
       "  <thead>\n",
       "    <tr>\n",
       "      <th class=\"blank level0\" >&nbsp;</th>\n",
       "      <th class=\"col_heading level0 col0\" >Modules</th>\n",
       "      <th class=\"col_heading level0 col1\" >Parameters</th>\n",
       "    </tr>\n",
       "  </thead>\n",
       "  <tbody>\n",
       "    <tr>\n",
       "      <th id=\"T_b094b_level0_row0\" class=\"row_heading level0 row0\" >0</th>\n",
       "      <td id=\"T_b094b_row0_col0\" class=\"data row0 col0\" >conv_pool_01.0.weight</td>\n",
       "      <td id=\"T_b094b_row0_col1\" class=\"data row0 col1\" >200</td>\n",
       "    </tr>\n",
       "    <tr>\n",
       "      <th id=\"T_b094b_level0_row1\" class=\"row_heading level0 row1\" >1</th>\n",
       "      <td id=\"T_b094b_row1_col0\" class=\"data row1 col0\" >conv_pool_01.0.bias</td>\n",
       "      <td id=\"T_b094b_row1_col1\" class=\"data row1 col1\" >8</td>\n",
       "    </tr>\n",
       "    <tr>\n",
       "      <th id=\"T_b094b_level0_row2\" class=\"row_heading level0 row2\" >2</th>\n",
       "      <td id=\"T_b094b_row2_col0\" class=\"data row2 col0\" >conv_pool_02.0.weight</td>\n",
       "      <td id=\"T_b094b_row2_col1\" class=\"data row2 col1\" >3200</td>\n",
       "    </tr>\n",
       "    <tr>\n",
       "      <th id=\"T_b094b_level0_row3\" class=\"row_heading level0 row3\" >3</th>\n",
       "      <td id=\"T_b094b_row3_col0\" class=\"data row3 col0\" >conv_pool_02.0.bias</td>\n",
       "      <td id=\"T_b094b_row3_col1\" class=\"data row3 col1\" >16</td>\n",
       "    </tr>\n",
       "    <tr>\n",
       "      <th id=\"T_b094b_level0_row4\" class=\"row_heading level0 row4\" >4</th>\n",
       "      <td id=\"T_b094b_row4_col0\" class=\"data row4 col0\" >FC_01.weight</td>\n",
       "      <td id=\"T_b094b_row4_col1\" class=\"data row4 col1\" >32768</td>\n",
       "    </tr>\n",
       "    <tr>\n",
       "      <th id=\"T_b094b_level0_row5\" class=\"row_heading level0 row5\" >5</th>\n",
       "      <td id=\"T_b094b_row5_col0\" class=\"data row5 col0\" >FC_01.bias</td>\n",
       "      <td id=\"T_b094b_row5_col1\" class=\"data row5 col1\" >128</td>\n",
       "    </tr>\n",
       "    <tr>\n",
       "      <th id=\"T_b094b_level0_row6\" class=\"row_heading level0 row6\" >6</th>\n",
       "      <td id=\"T_b094b_row6_col0\" class=\"data row6 col0\" >FC_02.weight</td>\n",
       "      <td id=\"T_b094b_row6_col1\" class=\"data row6 col1\" >8192</td>\n",
       "    </tr>\n",
       "    <tr>\n",
       "      <th id=\"T_b094b_level0_row7\" class=\"row_heading level0 row7\" >7</th>\n",
       "      <td id=\"T_b094b_row7_col0\" class=\"data row7 col0\" >FC_02.bias</td>\n",
       "      <td id=\"T_b094b_row7_col1\" class=\"data row7 col1\" >64</td>\n",
       "    </tr>\n",
       "    <tr>\n",
       "      <th id=\"T_b094b_level0_row8\" class=\"row_heading level0 row8\" >8</th>\n",
       "      <td id=\"T_b094b_row8_col0\" class=\"data row8 col0\" >FC_03.weight</td>\n",
       "      <td id=\"T_b094b_row8_col1\" class=\"data row8 col1\" >640</td>\n",
       "    </tr>\n",
       "    <tr>\n",
       "      <th id=\"T_b094b_level0_row9\" class=\"row_heading level0 row9\" >9</th>\n",
       "      <td id=\"T_b094b_row9_col0\" class=\"data row9 col0\" >FC_03.bias</td>\n",
       "      <td id=\"T_b094b_row9_col1\" class=\"data row9 col1\" >10</td>\n",
       "    </tr>\n",
       "  </tbody>\n",
       "</table>\n"
      ],
      "text/plain": [
       "<pandas.io.formats.style.Styler at 0x1d01243b9c8>"
      ]
     },
     "execution_count": 10,
     "metadata": {},
     "output_type": "execute_result"
    }
   ],
   "source": [
    "def count_params(model):\n",
    "  model_params = {\"Modules\": list(), \"Parameters\": list()}\n",
    "  total = {\"trainable\": 0, \"non_trainable\": 0} \n",
    "  for name, parameters in model.named_parameters():\n",
    "    param = parameters.numel()\n",
    "    if not parameters.requires_grad:\n",
    "      total[\"non_trainable\"] += param\n",
    "      continue\n",
    "    model_params[\"Modules\"].append(name)\n",
    "    model_params[\"Parameters\"].append(param)\n",
    "    total[\"trainable\"] += param\n",
    "  df = pd.DataFrame(model_params)\n",
    "  df = df.style.set_caption(f\"Total parameters: {total}\")\n",
    "  return df\n",
    "\n",
    "count_params(model)"
   ]
  },
  {
   "cell_type": "markdown",
   "metadata": {},
   "source": [
    "# Training Starts"
   ]
  },
  {
   "cell_type": "code",
   "execution_count": 11,
   "metadata": {},
   "outputs": [],
   "source": [
    "criterion = nn.CrossEntropyLoss() ## loss function\n",
    "optimizer = torch.optim.Adam(model.parameters(), lr=config.LEARNING_RATE)"
   ]
  },
  {
   "cell_type": "code",
   "execution_count": 12,
   "metadata": {},
   "outputs": [
    {
     "name": "stderr",
     "output_type": "stream",
     "text": [
      "Epoch 1/10: 100%|██████████████| 1875/1875 [00:37<00:00, 49.97it/s, loss=0.571]\n",
      "Epoch 2/10: 100%|██████████████| 1875/1875 [00:38<00:00, 48.39it/s, loss=0.346]\n",
      "Epoch 3/10: 100%|██████████████| 1875/1875 [00:38<00:00, 48.97it/s, loss=0.269]\n",
      "Epoch 4/10: 100%|██████████████| 1875/1875 [00:34<00:00, 53.97it/s, loss=0.509]\n",
      "Epoch 5/10: 100%|██████████████| 1875/1875 [00:36<00:00, 51.13it/s, loss=0.185]\n",
      "Epoch 6/10: 100%|██████████████| 1875/1875 [00:38<00:00, 48.72it/s, loss=0.375]\n",
      "Epoch 7/10: 100%|██████████████| 1875/1875 [00:34<00:00, 54.26it/s, loss=0.339]\n",
      "Epoch 8/10: 100%|██████████████| 1875/1875 [00:37<00:00, 49.88it/s, loss=0.323]\n",
      "Epoch 9/10: 100%|██████████████| 1875/1875 [00:39<00:00, 47.14it/s, loss=0.499]\n",
      "Epoch 10/10: 100%|█████████████| 1875/1875 [00:31<00:00, 58.65it/s, loss=0.331]\n"
     ]
    }
   ],
   "source": [
    "for epoch in range(config.EPOCH):\n",
    "  with tqdm(train_data_loader) as tqdm_epoch:\n",
    "    for images, labels in tqdm_epoch:\n",
    "      tqdm_epoch.set_description(f\"Epoch {epoch + 1}/{config.EPOCH}\")\n",
    "\n",
    "      # put the images on device\n",
    "      images = images.to(config.DEVICE)\n",
    "      labels = labels.to(config.DEVICE)\n",
    "\n",
    "      # forward pass\n",
    "      outputs = model(images)\n",
    "      loss = criterion(outputs, labels) # TODO #<< passing the pred, target\n",
    "\n",
    "      # backward prop\n",
    "      optimizer.zero_grad() # past gradient\n",
    "      loss.backward() # calculate the gradients\n",
    "      optimizer.step() # weights updated\n",
    "\n",
    "      tqdm_epoch.set_postfix(loss=loss.item())"
   ]
  },
  {
   "cell_type": "markdown",
   "metadata": {},
   "source": [
    "# Saving the model"
   ]
  },
  {
   "cell_type": "code",
   "execution_count": 13,
   "metadata": {},
   "outputs": [],
   "source": [
    "os.makedirs('model_dir', exist_ok = True)\n",
    "model_file_path = os.path.join('model_dir', 'CNN_model.pth')\n",
    "torch.save(model, model_file_path)"
   ]
  },
  {
   "cell_type": "markdown",
   "metadata": {},
   "source": [
    "# Load the model"
   ]
  },
  {
   "cell_type": "code",
   "execution_count": 14,
   "metadata": {},
   "outputs": [
    {
     "data": {
      "text/plain": [
       "CNN(\n",
       "  (conv_pool_01): Sequential(\n",
       "    (0): Conv2d(1, 8, kernel_size=(5, 5), stride=(1, 1))\n",
       "    (1): ReLU()\n",
       "    (2): MaxPool2d(kernel_size=2, stride=2, padding=0, dilation=1, ceil_mode=False)\n",
       "  )\n",
       "  (conv_pool_02): Sequential(\n",
       "    (0): Conv2d(8, 16, kernel_size=(5, 5), stride=(1, 1))\n",
       "    (1): ReLU()\n",
       "    (2): MaxPool2d(kernel_size=2, stride=2, padding=0, dilation=1, ceil_mode=False)\n",
       "  )\n",
       "  (Flatten): Flatten(start_dim=1, end_dim=-1)\n",
       "  (FC_01): Linear(in_features=256, out_features=128, bias=True)\n",
       "  (FC_02): Linear(in_features=128, out_features=64, bias=True)\n",
       "  (FC_03): Linear(in_features=64, out_features=10, bias=True)\n",
       ")"
      ]
     },
     "execution_count": 14,
     "metadata": {},
     "output_type": "execute_result"
    }
   ],
   "source": [
    "loaded_model = torch.load(model_file_path)\n",
    "loaded_model"
   ]
  },
  {
   "cell_type": "markdown",
   "metadata": {},
   "source": [
    "# Evaluate our Model"
   ]
  },
  {
   "cell_type": "code",
   "execution_count": 21,
   "metadata": {
    "scrolled": true
   },
   "outputs": [
    {
     "name": "stdout",
     "output_type": "stream",
     "text": [
      "2\n",
      "torch.Size([32, 1, 28, 28])\n",
      "torch.Size([32])\n"
     ]
    }
   ],
   "source": [
    "print(len(next(iter(test_data_loader))))\n",
    "print(next(iter(test_data_loader))[0].shape)\n",
    "print(next(iter(test_data_loader))[1].shape) # labels = 32 labels in one batch"
   ]
  },
  {
   "cell_type": "code",
   "execution_count": 23,
   "metadata": {},
   "outputs": [],
   "source": [
    "pred = np.array([])\n",
    "target = np.array([])\n",
    "\n",
    "with torch.no_grad(): # no backpropogation while evaluating the model\n",
    "    for batch, data in enumerate(test_data_loader):\n",
    "        images = data[0].to(config.DEVICE)\n",
    "        labels = data[1].to(config.DEVICE)\n",
    "        \n",
    "        y_pred = model(images)\n",
    "        pred = np.concatenate((pred, \n",
    "                               torch.argmax(y_pred, 1).cpu().numpy()))\n",
    "                             \n",
    "        target = np.concatenate((target,\n",
    "                                 labels.cpu().numpy()))"
   ]
  },
  {
   "cell_type": "code",
   "execution_count": 29,
   "metadata": {},
   "outputs": [
    {
     "data": {
      "text/plain": [
       "(10000,)"
      ]
     },
     "execution_count": 29,
     "metadata": {},
     "output_type": "execute_result"
    }
   ],
   "source": [
    "pred.shape"
   ]
  },
  {
   "cell_type": "code",
   "execution_count": 27,
   "metadata": {},
   "outputs": [
    {
     "name": "stdout",
     "output_type": "stream",
     "text": [
      "tensor([3, 6, 7, 5, 8, 6, 5, 3, 8, 9, 1, 9, 1, 8, 1, 5])\n",
      "tensor([3, 6, 7, 5, 8, 6, 5, 3, 8, 9, 1, 9, 1, 8, 1, 5])\n"
     ]
    }
   ],
   "source": [
    "print(torch.argmax(y_pred, 1))\n",
    "print(torch.argmax(y_pred, 1).cpu())"
   ]
  },
  {
   "cell_type": "markdown",
   "metadata": {},
   "source": [
    "# Confusion matrix"
   ]
  },
  {
   "cell_type": "code",
   "execution_count": 30,
   "metadata": {},
   "outputs": [
    {
     "data": {
      "text/plain": [
       "array([[751,   4,   5,  27,   3,   0, 199,   0,  11,   0],\n",
       "       [  1, 952,   0,  31,   2,   2,  10,   0,   2,   0],\n",
       "       [  5,   0, 697,   9, 107,   0, 182,   0,   0,   0],\n",
       "       [ 11,   5,   9, 896,  24,   1,  53,   0,   1,   0],\n",
       "       [  2,   0,  74,  79, 652,   0, 192,   0,   1,   0],\n",
       "       [  0,   0,   0,   0,   0, 949,   0,  33,   2,  16],\n",
       "       [104,   0,  63,  33,  46,   0, 733,   0,  21,   0],\n",
       "       [  0,   0,   0,   0,   0,   8,   0, 940,   0,  52],\n",
       "       [  0,   0,   3,   5,   4,   7,   8,   3, 969,   1],\n",
       "       [  0,   0,   0,   0,   0,   8,   1,  28,   0, 963]], dtype=int64)"
      ]
     },
     "execution_count": 30,
     "metadata": {},
     "output_type": "execute_result"
    }
   ],
   "source": [
    "cm = confusion_matrix(target, pred)\n",
    "cm"
   ]
  },
  {
   "cell_type": "code",
   "execution_count": 36,
   "metadata": {
    "scrolled": false
   },
   "outputs": [
    {
     "data": {
      "text/plain": [
       "<AxesSubplot:>"
      ]
     },
     "execution_count": 36,
     "metadata": {},
     "output_type": "execute_result"
    },
    {
     "data": {
      "image/png": "[encoded data removed]",
      "text/plain": [
       "<Figure size 432x288 with 2 Axes>"
      ]
     },
     "metadata": {
      "needs_background": "light"
     },
     "output_type": "display_data"
    }
   ],
   "source": [
    "sns.heatmap(cm, annot=True,fmt='d')# using  annot to display the  numbers inside the cell, and using fmt(format) to avoid\n",
    "# exponential format of values and using 'd'(digit) format of values"
   ]
  },
  {
   "cell_type": "code",
   "execution_count": 32,
   "metadata": {},
   "outputs": [
    {
     "data": {
      "text/plain": [
       "<AxesSubplot:>"
      ]
     },
     "execution_count": 32,
     "metadata": {},
     "output_type": "execute_result"
    },
    {
     "data": {
      "image/png": "[encoded data removed]",
      "text/plain": [
       "<Figure size 432x288 with 1 Axes>"
      ]
     },
     "metadata": {
      "needs_background": "light"
     },
     "output_type": "display_data"
    }
   ],
   "source": [
    "sns.heatmap(cm, annot=True, fmt='d', cbar=False)# removing the color bar"
   ]
  },
  {
   "cell_type": "code",
   "execution_count": 38,
   "metadata": {},
   "outputs": [
    {
     "data": {
      "text/plain": [
       "dict_values(['T-shirt/top', 'Trouser', 'Pullover', 'Dress', 'Coat', 'Sandal', 'Shirt', 'Sneaker', 'Bag', 'Ankle boot'])"
      ]
     },
     "execution_count": 38,
     "metadata": {},
     "output_type": "execute_result"
    }
   ],
   "source": [
    "label_map.values()"
   ]
  },
  {
   "cell_type": "code",
   "execution_count": 37,
   "metadata": {},
   "outputs": [
    {
     "data": {
      "text/plain": [
       "<AxesSubplot:>"
      ]
     },
     "execution_count": 37,
     "metadata": {},
     "output_type": "execute_result"
    },
    {
     "data": {
      "image/png": "[encoded data removed]",
      "text/plain": [
       "<Figure size 864x720 with 1 Axes>"
      ]
     },
     "metadata": {
      "needs_background": "light"
     },
     "output_type": "display_data"
    }
   ],
   "source": [
    "plt.figure(figsize = (12,10)) # increasing the fiigure size\n",
    "sns.heatmap(cm, annot=True, fmt='d', cbar=False,\n",
    "           xticklabels = label_map.values(), # using labels\n",
    "           yticklabels = label_map.values())"
   ]
  },
  {
   "cell_type": "markdown",
   "metadata": {},
   "source": [
    "# Prediction"
   ]
  },
  {
   "cell_type": "code",
   "execution_count": 78,
   "metadata": {
    "scrolled": true
   },
   "outputs": [
    {
     "name": "stdout",
     "output_type": "stream",
     "text": [
      "torch.Size([32, 1, 28, 28])\n",
      "torch.Size([32])\n"
     ]
    }
   ],
   "source": [
    "data = next(iter(test_data_loader))\n",
    "print(data[0].shape) # 32 data points\n",
    "print(data[1].shape) # 32 images"
   ]
  },
  {
   "cell_type": "code",
   "execution_count": 79,
   "metadata": {},
   "outputs": [],
   "source": [
    "images, labels = data"
   ]
  },
  {
   "cell_type": "code",
   "execution_count": 80,
   "metadata": {},
   "outputs": [
    {
     "name": "stdout",
     "output_type": "stream",
     "text": [
      "torch.Size([1, 28, 28])\n",
      "1\n"
     ]
    },
    {
     "data": {
      "text/plain": [
       "'Trouser'"
      ]
     },
     "execution_count": 80,
     "metadata": {},
     "output_type": "execute_result"
    }
   ],
   "source": [
    "idx = 2\n",
    "img = images[idx] # taking one image from the batch of 32 images\n",
    "print(img.shape)\n",
    "\n",
    "label = labels[idx]\n",
    "print(label.item())\n",
    "\n",
    "label_map[label.item()]"
   ]
  },
  {
   "cell_type": "code",
   "execution_count": 57,
   "metadata": {},
   "outputs": [
    {
     "data": {
      "text/plain": [
       "torch.Size([28, 28])"
      ]
     },
     "execution_count": 57,
     "metadata": {},
     "output_type": "execute_result"
    }
   ],
   "source": [
    "# img.squeeze().shape"
   ]
  },
  {
   "cell_type": "code",
   "execution_count": 81,
   "metadata": {
    "scrolled": true
   },
   "outputs": [
    {
     "data": {
      "text/plain": [
       "Text(0.5, 1.0, 'Trouser')"
      ]
     },
     "execution_count": 81,
     "metadata": {},
     "output_type": "execute_result"
    },
    {
     "data": {
      "image/png": "[encoded data removed]",
      "text/plain": [
       "<Figure size 432x288 with 1 Axes>"
      ]
     },
     "metadata": {
      "needs_background": "light"
     },
     "output_type": "display_data"
    }
   ],
   "source": [
    "plt.imshow(img.squeeze(), cmap = 'gray')\n",
    "plt.title(label_map[label.item()])"
   ]
  },
  {
   "cell_type": "code",
   "execution_count": 82,
   "metadata": {},
   "outputs": [
    {
     "data": {
      "text/plain": [
       "torch.Size([1, 28, 28])"
      ]
     },
     "execution_count": 82,
     "metadata": {},
     "output_type": "execute_result"
    }
   ],
   "source": [
    "img.shape"
   ]
  },
  {
   "cell_type": "code",
   "execution_count": 83,
   "metadata": {
    "scrolled": true
   },
   "outputs": [
    {
     "data": {
      "text/plain": [
       "tensor([[  -4.1000,   20.9161,    2.4258,    2.1248,   -2.3624,  -29.8994,\n",
       "          -11.5593, -111.1663,  -24.1941,  -30.0783]],\n",
       "       grad_fn=<AddmmBackward0>)"
      ]
     },
     "execution_count": 83,
     "metadata": {},
     "output_type": "execute_result"
    }
   ],
   "source": [
    "img = img.unsqueeze(dim=1)\n",
    "model(img.to(config.DEVICE))# used when using GPU\n",
    "model(img)"
   ]
  },
  {
   "cell_type": "code",
   "execution_count": 84,
   "metadata": {},
   "outputs": [
    {
     "data": {
      "text/plain": [
       "tensor([[  -4.1000,   20.9161,    2.4258,    2.1248,   -2.3624,  -29.8994,\n",
       "          -11.5593, -111.1663,  -24.1941,  -30.0783]],\n",
       "       grad_fn=<AddmmBackward0>)"
      ]
     },
     "execution_count": 84,
     "metadata": {},
     "output_type": "execute_result"
    }
   ],
   "source": [
    "logit = model(img)\n",
    "logit"
   ]
  },
  {
   "cell_type": "code",
   "execution_count": 88,
   "metadata": {},
   "outputs": [
    {
     "data": {
      "text/plain": [
       "-187.8931"
      ]
     },
     "execution_count": 88,
     "metadata": {},
     "output_type": "execute_result"
    }
   ],
   "source": [
    "# dont make any sense\n",
    "sum([  -4.1000,   20.9161,    2.4258,    2.1248,   -2.3624,  -29.8994,\n",
    "          -11.5593, -111.1663,  -24.1941,  -30.0783])"
   ]
  },
  {
   "cell_type": "code",
   "execution_count": 89,
   "metadata": {},
   "outputs": [
    {
     "data": {
      "text/plain": [
       "tensor([[1.3667e-11, 1.0000e+00, 9.3274e-09, 6.9032e-09, 7.7677e-11, 8.5334e-23,\n",
       "         7.8723e-15, 0.0000e+00, 2.5639e-20, 7.1352e-23]],\n",
       "       grad_fn=<SoftmaxBackward0>)"
      ]
     },
     "execution_count": 89,
     "metadata": {},
     "output_type": "execute_result"
    }
   ],
   "source": [
    "pred_prob = F.softmax(logit, dim = 1)\n",
    "pred_prob"
   ]
  },
  {
   "cell_type": "code",
   "execution_count": 87,
   "metadata": {},
   "outputs": [
    {
     "data": {
      "text/plain": [
       "1.0000000163219518"
      ]
     },
     "execution_count": 87,
     "metadata": {},
     "output_type": "execute_result"
    }
   ],
   "source": [
    "# makes sense\n",
    "sum([1.3667e-11, 1.0000e+00, 9.3274e-09, 6.9032e-09, 7.7677e-11, 8.5334e-23,\n",
    "         7.8723e-15, 0.0000e+00, 2.5639e-20, 7.1352e-23])"
   ]
  },
  {
   "cell_type": "code",
   "execution_count": 92,
   "metadata": {},
   "outputs": [
    {
     "data": {
      "text/plain": [
       "1"
      ]
     },
     "execution_count": 92,
     "metadata": {},
     "output_type": "execute_result"
    }
   ],
   "source": [
    "argmax = torch.argmax(pred_prob).item()\n",
    "argmax"
   ]
  },
  {
   "cell_type": "code",
   "execution_count": 93,
   "metadata": {},
   "outputs": [
    {
     "data": {
      "text/plain": [
       "'Trouser'"
      ]
     },
     "execution_count": 93,
     "metadata": {},
     "output_type": "execute_result"
    }
   ],
   "source": [
    "label_map[argmax]"
   ]
  },
  {
   "cell_type": "code",
   "execution_count": 101,
   "metadata": {},
   "outputs": [],
   "source": [
    "def predict(data, model, label_map, device, idx = 0):\n",
    "    images, labels = data\n",
    "    img = images[idx]\n",
    "    label = labels[idx]\n",
    "    \n",
    "    plt.imshow(img.squeeze(),cmap='gray')\n",
    "    \n",
    "#     logit = model(img) # prediction\n",
    "    logit = model(img.unsqueeze(dim=1).to(config.DEVICE))\n",
    "    \n",
    "    pred_prob = F.softmax(logit, dim=1)\n",
    "    argmax = torch.argmax(pred_prob).item()\n",
    "    \n",
    "    predicted_label = label_map[argmax]\n",
    "    \n",
    "#     actual = label_map[label]\n",
    "    actual_label = label_map[label.item()]\n",
    "    \n",
    "    plt.title(f'actual label: {actual_label} | predicted label: {predicted_label}')\n",
    "    plt.axis('off')\n",
    "    return predicted_label, actual_label"
   ]
  },
  {
   "cell_type": "code",
   "execution_count": 102,
   "metadata": {},
   "outputs": [
    {
     "data": {
      "text/plain": [
       "('Trouser', 'Trouser')"
      ]
     },
     "execution_count": 102,
     "metadata": {},
     "output_type": "execute_result"
    },
    {
     "data": {
      "image/png": "[encoded data removed]",
      "text/plain": [
       "<Figure size 432x288 with 1 Axes>"
      ]
     },
     "metadata": {
      "needs_background": "light"
     },
     "output_type": "display_data"
    }
   ],
   "source": [
    "predict(data, model, label_map, config.DEVICE, idx=2)"
   ]
  },
  {
   "cell_type": "code",
   "execution_count": null,
   "metadata": {},
   "outputs": [],
   "source": []
  }
 ],
 "metadata": {
  "kernelspec": {
   "display_name": "Python 3 (ipykernel)",
   "language": "python",
   "name": "python3"
  },
  "language_info": {
   "codemirror_mode": {
    "name": "ipython",
    "version": 3
   },
   "file_extension": ".py",
   "mimetype": "text/x-python",
   "name": "python",
   "nbconvert_exporter": "python",
   "pygments_lexer": "ipython3",
   "version": "3.7.11"
  }
 },
 "nbformat": 4,
 "nbformat_minor": 4
}
